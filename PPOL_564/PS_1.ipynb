{
 "cells": [
  {
   "cell_type": "markdown",
   "metadata": {},
   "source": [
    "# Problem Set #1\n",
    "## Name: Sahithi Adari\n",
    "### Date: 09/18/2020"
   ]
  },
  {
   "cell_type": "markdown",
   "metadata": {},
   "source": [
    "### Question 1"
   ]
  },
  {
   "cell_type": "markdown",
   "metadata": {},
   "source": [
    "#### (a) What is meant by “reproducibility” and why is it important?"
   ]
  },
  {
   "cell_type": "markdown",
   "metadata": {},
   "source": [
    "Reproducibility, when thinking about it within the coding framework, refers to the coding workflow, organization and accessibility. Because projects are rarely linear, documentation becomes incredibly important in terms of keeping track. Simply put, reproducibility is about assuring that no matter where you are in the project process (just starting, in the middle, on a side tangent), you know where you are, how you got there, and how to refer back to this position in the future. \n",
    "\n",
    "There are also 5 major sub-concepts within reproducibility: readability, portability, well-named, repeatable, and version control."
   ]
  },
  {
   "cell_type": "markdown",
   "metadata": {},
   "source": [
    "#### b) How does version control using Git work?"
   ]
  },
  {
   "cell_type": "markdown",
   "metadata": {},
   "source": [
    "Version control on Git doesn't work in a linear manner but rather in a \"stream of snapshots\" manner. Meaning that with Git, every time we commit a file, rather than saving that specific file, Git takes a snapshot of the whole repository at that time that we can easily refer back to. If no changes are made Git just links back to the previous identical file it has already stored.  "
   ]
  },
  {
   "cell_type": "markdown",
   "metadata": {},
   "source": [
    "#### (c) What is the difference between the *is*, *in*, and == operators in Python?"
   ]
  },
  {
   "cell_type": "markdown",
   "metadata": {},
   "source": [
    "The *==* operator and *is* are the equality operator, while *in* sets memberships. The difference between *==* and *is* is that *is* is used to test if two variables refer to the same object whereas the *==* operator is used to test if two variables are equal.  \n",
    "\n",
    "And to expand upon the definition of *in*, it serves 2 purposes- 1) to check if a value is present in a sequence and 2) to iterate through a sequence in a for loop. "
   ]
  },
  {
   "cell_type": "markdown",
   "metadata": {},
   "source": [
    "#### (d) What is a shallow copy and when do shallow copies occur when programming in Python?"
   ]
  },
  {
   "cell_type": "markdown",
   "metadata": {},
   "source": [
    "A shallow copy is when you construct a new collection object and then populate it with references to the values in the older collection object. A key difference between shallow and deep copy is that with a shallow copy, any changes made to the values in the new collection object, or vice versa, will be reflected in the old collection object. Notes these changes must happen with the values themselves and not the object. I.e. if you are shallow copying a list adding to that list will not appear in the secondary collection object but making changes to the values of the list will. In python shallow copies differ based on what modules you are using but, in general, shallow copies occur when using the *=* operator. "
   ]
  },
  {
   "cell_type": "markdown",
   "metadata": {},
   "source": [
    "#### (e) When analyzing the runtime using Big-O notation, what part of the algorithm do we care the most about?"
   ]
  },
  {
   "cell_type": "markdown",
   "metadata": {},
   "source": [
    "When analyzing the runtime using Big-O notation, we care about the most dominant part of the algorithm since that part tends to overpower the rest of the algorithm as the problem gets bigger."
   ]
  },
  {
   "cell_type": "markdown",
   "metadata": {},
   "source": [
    "### Question 2\n",
    "#### (a) Please write a function that converts the country_data into a dictionary-based data structure equivalent to the one below (see converted_data). In your solution, do not import any third-party modules or functions, only use Python’s “batteries included” functionality. "
   ]
  },
  {
   "cell_type": "code",
   "execution_count": 9,
   "metadata": {},
   "outputs": [],
   "source": [
    "#Input of the data\n",
    "country_data = [\n",
    "['Country Name', '2006', '2007', '2008', '2009', '2010', '2011', '2012','2013', '2014', '2015', '2016'], ['Afghanistan', '', '73.4', '70.8', '68.2', '65.7', '63.3', '61', '58.8', '56.8', '54.9', '53.2'], ['Belize', '17.5', '17.2', '16.9', '16.5', '16.1', '15.6', '15.1', '', '14', '13.4', '12.8'],\n",
    "['Germany', '3.8', '3.7', '3.6', '3.6', '3.5', '3.4', '3.3', '3.3', '3.3', '3.3', '3.2'],\n",
    "['Greece', '3.6', '3.5', '3.3', '3.3', '3.2', '3.2', '3.2', '3.2', '3.2', '3.1', '3.1'],\n",
    "['Iceland', '2.3', '2.2', '2.1', '2.1', '2', '', '1.8', '1.7', '1.7', '1.7', '1.6'],\n",
    "['Nigeria', '93.2', '90', '87', '83.9', '81.1', '78.3', '75.7', '73.3', '71', '69', '66.9'],\n",
    "['Thailand', '15', '', '13.8', '13.3', '12.8', '12.4', '12', '11.6', '11.2', '10.8', '10.5'],\n",
    "['United States', '6.7', '6.6', '6.5', '6.4', '6.2', '6.1', '6', '5.9', '5.8', '5.7', '5.6'],\n",
    "['Venezuela, RB', '15.4', '15', '14.8', '14.7', '14.7', '14.7', '14.7', '14.6', '', '14.3', '14'], ['Ethiopia','66.4', '62.9', '59.5', '56.5', '', '51.1', '48.6', '46.4', '44.4', '42.6', '41']\n",
    "]"
   ]
  },
  {
   "cell_type": "code",
   "execution_count": 10,
   "metadata": {},
   "outputs": [],
   "source": [
    "#Created an empty dictionary \n",
    "# sample_data = {}"
   ]
  },
  {
   "cell_type": "code",
   "execution_count": 11,
   "metadata": {},
   "outputs": [],
   "source": [
    "#Created a function \n",
    "def converted_data(insert): #Assigned the variable insert to represent the nested list arguement   \n",
    "    '''The converted data function takes an arguement of a nested list and outputs it into a dictionary. This function\n",
    "    was specifically created for The World Bank's Infant mortality rate dataset. The key become a tuple following \n",
    "    the format of (country, year), while the value is the infant mortality rate (IMR) per country per year. This \n",
    "    function also renames any empty IMR from the original list (of the '' format) into a None value and changes all \n",
    "    other IMR into the float data types. This function returns the new complete dictionary. \n",
    "    1. '''\n",
    "    i = len(insert) #Determined the number of total rows in our list\n",
    "    j = len(insert[0]) #Determined the number of total headers in our list \n",
    "    sample_data = {}\n",
    "    for country in range(1,i): #Created a for loop that would go from the value of 1 to the last number of rows \n",
    "        for year in range(1,j): #Created a for loop that would go from the value of 1 to the last number of headers \n",
    "            right = (insert[country][0], insert[0][year]) #Defined 'right' in order to represent the key of the dictionary \n",
    "            left = insert[country][year] #Defined 'left' in order to represent the value of the dictionary \n",
    "            if left == '': #Created an if statement that looks for values that are empty \n",
    "                sample_data[right] = None #Assigned those values as None and created a respective key for them \n",
    "            else:\n",
    "                sample_data[right] = float(left) #Changed the value into float data type and created a respective key for them\n",
    "    return sample_data #Returns the new dictionary when you run the function "
   ]
  },
  {
   "cell_type": "code",
   "execution_count": 12,
   "metadata": {},
   "outputs": [
    {
     "data": {
      "text/plain": [
       "{('Afghanistan', '2006'): None,\n",
       " ('Afghanistan', '2007'): 73.4,\n",
       " ('Afghanistan', '2008'): 70.8,\n",
       " ('Afghanistan', '2009'): 68.2,\n",
       " ('Afghanistan', '2010'): 65.7,\n",
       " ('Afghanistan', '2011'): 63.3,\n",
       " ('Afghanistan', '2012'): 61.0,\n",
       " ('Afghanistan', '2013'): 58.8,\n",
       " ('Afghanistan', '2014'): 56.8,\n",
       " ('Afghanistan', '2015'): 54.9,\n",
       " ('Afghanistan', '2016'): 53.2,\n",
       " ('Belize', '2006'): 17.5,\n",
       " ('Belize', '2007'): 17.2,\n",
       " ('Belize', '2008'): 16.9,\n",
       " ('Belize', '2009'): 16.5,\n",
       " ('Belize', '2010'): 16.1,\n",
       " ('Belize', '2011'): 15.6,\n",
       " ('Belize', '2012'): 15.1,\n",
       " ('Belize', '2013'): None,\n",
       " ('Belize', '2014'): 14.0,\n",
       " ('Belize', '2015'): 13.4,\n",
       " ('Belize', '2016'): 12.8,\n",
       " ('Germany', '2006'): 3.8,\n",
       " ('Germany', '2007'): 3.7,\n",
       " ('Germany', '2008'): 3.6,\n",
       " ('Germany', '2009'): 3.6,\n",
       " ('Germany', '2010'): 3.5,\n",
       " ('Germany', '2011'): 3.4,\n",
       " ('Germany', '2012'): 3.3,\n",
       " ('Germany', '2013'): 3.3,\n",
       " ('Germany', '2014'): 3.3,\n",
       " ('Germany', '2015'): 3.3,\n",
       " ('Germany', '2016'): 3.2,\n",
       " ('Greece', '2006'): 3.6,\n",
       " ('Greece', '2007'): 3.5,\n",
       " ('Greece', '2008'): 3.3,\n",
       " ('Greece', '2009'): 3.3,\n",
       " ('Greece', '2010'): 3.2,\n",
       " ('Greece', '2011'): 3.2,\n",
       " ('Greece', '2012'): 3.2,\n",
       " ('Greece', '2013'): 3.2,\n",
       " ('Greece', '2014'): 3.2,\n",
       " ('Greece', '2015'): 3.1,\n",
       " ('Greece', '2016'): 3.1,\n",
       " ('Iceland', '2006'): 2.3,\n",
       " ('Iceland', '2007'): 2.2,\n",
       " ('Iceland', '2008'): 2.1,\n",
       " ('Iceland', '2009'): 2.1,\n",
       " ('Iceland', '2010'): 2.0,\n",
       " ('Iceland', '2011'): None,\n",
       " ('Iceland', '2012'): 1.8,\n",
       " ('Iceland', '2013'): 1.7,\n",
       " ('Iceland', '2014'): 1.7,\n",
       " ('Iceland', '2015'): 1.7,\n",
       " ('Iceland', '2016'): 1.6,\n",
       " ('Nigeria', '2006'): 93.2,\n",
       " ('Nigeria', '2007'): 90.0,\n",
       " ('Nigeria', '2008'): 87.0,\n",
       " ('Nigeria', '2009'): 83.9,\n",
       " ('Nigeria', '2010'): 81.1,\n",
       " ('Nigeria', '2011'): 78.3,\n",
       " ('Nigeria', '2012'): 75.7,\n",
       " ('Nigeria', '2013'): 73.3,\n",
       " ('Nigeria', '2014'): 71.0,\n",
       " ('Nigeria', '2015'): 69.0,\n",
       " ('Nigeria', '2016'): 66.9,\n",
       " ('Thailand', '2006'): 15.0,\n",
       " ('Thailand', '2007'): None,\n",
       " ('Thailand', '2008'): 13.8,\n",
       " ('Thailand', '2009'): 13.3,\n",
       " ('Thailand', '2010'): 12.8,\n",
       " ('Thailand', '2011'): 12.4,\n",
       " ('Thailand', '2012'): 12.0,\n",
       " ('Thailand', '2013'): 11.6,\n",
       " ('Thailand', '2014'): 11.2,\n",
       " ('Thailand', '2015'): 10.8,\n",
       " ('Thailand', '2016'): 10.5,\n",
       " ('United States', '2006'): 6.7,\n",
       " ('United States', '2007'): 6.6,\n",
       " ('United States', '2008'): 6.5,\n",
       " ('United States', '2009'): 6.4,\n",
       " ('United States', '2010'): 6.2,\n",
       " ('United States', '2011'): 6.1,\n",
       " ('United States', '2012'): 6.0,\n",
       " ('United States', '2013'): 5.9,\n",
       " ('United States', '2014'): 5.8,\n",
       " ('United States', '2015'): 5.7,\n",
       " ('United States', '2016'): 5.6,\n",
       " ('Venezuela, RB', '2006'): 15.4,\n",
       " ('Venezuela, RB', '2007'): 15.0,\n",
       " ('Venezuela, RB', '2008'): 14.8,\n",
       " ('Venezuela, RB', '2009'): 14.7,\n",
       " ('Venezuela, RB', '2010'): 14.7,\n",
       " ('Venezuela, RB', '2011'): 14.7,\n",
       " ('Venezuela, RB', '2012'): 14.7,\n",
       " ('Venezuela, RB', '2013'): 14.6,\n",
       " ('Venezuela, RB', '2014'): None,\n",
       " ('Venezuela, RB', '2015'): 14.3,\n",
       " ('Venezuela, RB', '2016'): 14.0,\n",
       " ('Ethiopia', '2006'): 66.4,\n",
       " ('Ethiopia', '2007'): 62.9,\n",
       " ('Ethiopia', '2008'): 59.5,\n",
       " ('Ethiopia', '2009'): 56.5,\n",
       " ('Ethiopia', '2010'): None,\n",
       " ('Ethiopia', '2011'): 51.1,\n",
       " ('Ethiopia', '2012'): 48.6,\n",
       " ('Ethiopia', '2013'): 46.4,\n",
       " ('Ethiopia', '2014'): 44.4,\n",
       " ('Ethiopia', '2015'): 42.6,\n",
       " ('Ethiopia', '2016'): 41.0}"
      ]
     },
     "execution_count": 12,
     "metadata": {},
     "output_type": "execute_result"
    }
   ],
   "source": [
    "#Question 2 part a - answer\n",
    "converted_data(country_data)"
   ]
  },
  {
   "cell_type": "markdown",
   "metadata": {},
   "source": [
    "#### (b) Analyze the run-time of your solution to Part A using Big-O Notation."
   ]
  },
  {
   "cell_type": "markdown",
   "metadata": {},
   "source": [
    "$O(N^2)$"
   ]
  },
  {
   "cell_type": "markdown",
   "metadata": {},
   "source": [
    "### Question 3\n",
    "#### (a) Which country-year has the lowest infant mortality rate, given the available data? Please write a function in python that calculates this statistic and locates the relevant country-year key. Use the min_cntyear label to store the key. (Hint: min() is a built-in function that locates the minimum value in a list.) Please print the min_cntyear object at the end of the code chunk."
   ]
  },
  {
   "cell_type": "code",
   "execution_count": 22,
   "metadata": {},
   "outputs": [],
   "source": [
    "#Defined variables \n",
    "i = len(country_data[0]) #Calculated the number of total rows in the country_data list and set that value as i\n",
    "j = len(country_data) #Calculated the number of total headers in the country_data list and set that value as j\n",
    "\n",
    "#Created an empty dictionary \n",
    "none_sdata = {}"
   ]
  },
  {
   "cell_type": "code",
   "execution_count": 26,
   "metadata": {},
   "outputs": [],
   "source": [
    "#Created a foor loop in order to create a dictionary with no \"None\" values \n",
    "for area in range(1,j): #Created a for loop that would go from 1 to the total rows in the country_data list\n",
    "    for time in range(1,i): #Created a for loop that would go from 1 to the total headers in the country_data list\n",
    "        right = (country_data[area][0], country_data[0][time]) #Defined 'right' in order to represent the key of the dictionary \n",
    "        left = country_data[area][time] #Defined 'left' in order to represent the value of the dictionary \n",
    "        if left != '': #Created an if statement that looks for values that aren't empty\n",
    "            none_sdata[right] = float(left) #Changed the value into float data type and created a respective key for them"
   ]
  },
  {
   "cell_type": "code",
   "execution_count": 27,
   "metadata": {},
   "outputs": [],
   "source": [
    "# Created a function \n",
    "def min_find(none_sdata): \n",
    "    '''The min_find function was specifically created to use the none_sdata dictionary that was defined in an \n",
    "    earlier part of the code. The none_sdata dictionary is a dictionary based off of the The World Bank's Infant \n",
    "    mortality rate dataset and removes any empty IMR (of the '' format). This fuction finds the lowest IMR in the \n",
    "    none_sdata dictionary, and stores the key of that value as min_cntyear. It then prints out both the key and the \n",
    "    value of min_cntyear. \n",
    "    '''\n",
    "    min_cntyear = min(none_sdata, key=none_sdata.get) #Found the minimum key in none_sdata using a sort order of the dictionary values\n",
    "    print ('Country & Year: ',min_cntyear) # Printed the country and year of the minimum value  \n",
    "    print ('Minimum Value: ',none_sdata[min_cntyear]) #Printed the actual minimum value "
   ]
  },
  {
   "cell_type": "code",
   "execution_count": 28,
   "metadata": {},
   "outputs": [
    {
     "name": "stdout",
     "output_type": "stream",
     "text": [
      "Country & Year:  ('Iceland', '2016')\n",
      "Minimum Value:  1.6\n"
     ]
    }
   ],
   "source": [
    "#Question 3 part a - answer\n",
    "min_find(none_sdata)"
   ]
  },
  {
   "cell_type": "markdown",
   "metadata": {},
   "source": [
    "#### (b) Analyze the run-time of your solution to 3.a using Big-O Notation. "
   ]
  },
  {
   "cell_type": "markdown",
   "metadata": {},
   "source": [
    "The runtime of the pre-processing part of my code is $O(N^2)$ while the actual function is $O(N)$. If we take these values together we get a total of $O(N^2) + O(N)$. And given that Big-O notation only cares about the \"biggest\" part of my code the overall value becomes $O(N^2)$."
   ]
  },
  {
   "cell_type": "markdown",
   "metadata": {},
   "source": [
    "### Question 4\n",
    "#### (a) Please write a function in python using what we know that calculates the necessary statistic and store the result as a dictionary using the country as key and the average infant mortality rate as value. Please refer to the dict object as country_aves. Averages should be rounded to the 1st decimal place."
   ]
  },
  {
   "cell_type": "code",
   "execution_count": 5,
   "metadata": {},
   "outputs": [],
   "source": [
    "#Defined variables \n",
    "j = len(country_data) #Calculated the number of total headers in the country_data list and set that value as j\n",
    "\n",
    "#Created an empty dictionary \n",
    "zero_sdata = {}\n",
    "\n",
    "#Created an empty list\n",
    "numbers = [] "
   ]
  },
  {
   "cell_type": "code",
   "execution_count": 15,
   "metadata": {},
   "outputs": [],
   "source": [
    "#Created a function \n",
    "def country_avg(insert): #Assigned the variable insert to represent the nested list arguement \n",
    "    '''The country_avg function takes an arguement of a nested list and outputs it into a dictionary. This function\n",
    "    was specifically created for The World Bank's Infant mortality rate dataset. The key is the individual country \n",
    "    while the value is the average IMR across that country. This function returns the new complete dictionary.  \n",
    "    '''\n",
    "    for row in insert[1:]: #Created a for loop that is looking at the second nested list onwards \n",
    "        name = row[0] #Defined 'name' in order to represent the key of our dictionary and assigned it as the name of the country \n",
    "        for imr in row[1:]: #Created a second for loop that is looking at just the IMR values within the nested list\n",
    "            if imr == '': #Created an if statement that looks for values that are empty \n",
    "                imr = 0 #Assigned those values as 0\n",
    "            else:\n",
    "                imr = float(imr) #Assigned the non-empty values into a float datatype \n",
    "            numbers.append(imr) #Appended the new float and 0 value IMRs to a new list called numbers \n",
    "        avg = (sum(numbers))/j #Assigned the mean of the numbers lists as avg \n",
    "        zero_sdata[name] = avg #Created a new dictionary called zero_sdata with the countries as keys and the avg as the value \n",
    "    return zero_sdata #Returns the new dictionary when you run the function "
   ]
  },
  {
   "cell_type": "code",
   "execution_count": 16,
   "metadata": {},
   "outputs": [
    {
     "name": "stdout",
     "output_type": "stream",
     "text": [
      "{'Afghanistan': 464.11818181818177, 'Belize': 478.2181818181818, 'Germany': 481.67272727272734, 'Greece': 484.93636363636375, 'Iceland': 486.68181818181836, 'Nigeria': 565.718181818182, 'Thailand': 576.9363636363638, 'United States': 583.0727272727274, 'Venezuela, RB': 596.4272727272729, 'Ethiopia': 643.6454545454546}\n"
     ]
    }
   ],
   "source": [
    "#Question 4 part a - answer\n",
    "country_aves = country_avg(country_data) \n",
    "print(country_aves)"
   ]
  },
  {
   "cell_type": "markdown",
   "metadata": {},
   "source": [
    "#### (b) Analyze the run-time of your solution to 4.a using Big-O Notation."
   ]
  },
  {
   "cell_type": "markdown",
   "metadata": {},
   "source": [
    "$O(N^2)$ "
   ]
  }
 ],
 "metadata": {
  "kernelspec": {
   "display_name": "Python 3",
   "language": "python",
   "name": "python3"
  },
  "language_info": {
   "codemirror_mode": {
    "name": "ipython",
    "version": 3
   },
   "file_extension": ".py",
   "mimetype": "text/x-python",
   "name": "python",
   "nbconvert_exporter": "python",
   "pygments_lexer": "ipython3",
   "version": "3.8.5"
  }
 },
 "nbformat": 4,
 "nbformat_minor": 4
}
