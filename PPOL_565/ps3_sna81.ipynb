{
 "cells": [
  {
   "cell_type": "markdown",
   "metadata": {},
   "source": [
    "# Problem Set #3\n",
    "## Name: Sahithi Adari\n",
    "### Date: 03/04/2021"
   ]
  },
  {
   "cell_type": "code",
   "execution_count": 1,
   "metadata": {},
   "outputs": [],
   "source": [
    "import pandas as pd\n",
    "import numpy as np\n",
    "import math\n",
    "from sklearn.preprocessing import LabelEncoder\n",
    "from sklearn.model_selection import cross_val_score, validation_curve, train_test_split\n",
    "from sklearn.tree import DecisionTreeClassifier as DTree, plot_tree\n",
    "from sklearn.metrics import confusion_matrix, plot_confusion_matrix\n",
    "import matplotlib.pyplot as plt\n",
    "import seaborn as sns"
   ]
  },
  {
   "cell_type": "markdown",
   "metadata": {},
   "source": [
    "## Part 1"
   ]
  },
  {
   "cell_type": "markdown",
   "metadata": {},
   "source": [
    "### Question 1"
   ]
  },
  {
   "cell_type": "code",
   "execution_count": 2,
   "metadata": {},
   "outputs": [
    {
     "data": {
      "text/plain": [
       "0.9910760598382222"
      ]
     },
     "execution_count": 2,
     "metadata": {},
     "output_type": "execute_result"
    }
   ],
   "source": [
    "# Calcuating the entropy of the parent\n",
    "parent = -(4/9)*math.log((4/9), 2)-(5/9)*math.log((5/9), 2)\n",
    "parent"
   ]
  },
  {
   "cell_type": "markdown",
   "metadata": {},
   "source": [
    "The entropy of this collection of training examples with respect to the positive class is 0.99107."
   ]
  },
  {
   "cell_type": "markdown",
   "metadata": {},
   "source": [
    "### Question 2"
   ]
  },
  {
   "cell_type": "code",
   "execution_count": 3,
   "metadata": {},
   "outputs": [],
   "source": [
    "# Calculating the entropy of a_1 true\n",
    "# The first entropy measure is of the total true positives whereas the second one is of the total false negatives\n",
    "a1_true = -(3/4)*math.log((3/4), 2)-(1/4)*math.log((1/4), 2)\n",
    "\n",
    "# Calculating the entropy of a_1 false\n",
    "# The first entropy measure is of the total false positives whereas the second one is of the total true negatives\n",
    "a1_false = -(1/5)*math.log((1/5), 2)-(4/5)*math.log((4/5), 2)\n",
    "\n",
    "# Calculating the weighted entropy of a_1\n",
    "a1_weighted = (4/9)*a1_true + (5/9)*a1_false"
   ]
  },
  {
   "cell_type": "code",
   "execution_count": 4,
   "metadata": {},
   "outputs": [],
   "source": [
    "# Calculating the entropy of a_2 true\n",
    "# The first entropy measure is of the total true positives whereas the second one is of the total false negatives\n",
    "a2_true = -(2/5)*math.log((2/5), 2)-(3/5)*math.log((3/5), 2)\n",
    "\n",
    "# Calculating the entropy of a_2 false\n",
    "# The first entropy measure is of the total false positives whereas the second one is of the total true negatives\n",
    "a2_false = -(2/4)*math.log((2/4), 2)-(2/4)*math.log((2/4), 2)\n",
    "\n",
    "# Calculating the weighted entropy of a_2\n",
    "a2_weighted = (4/9)*a2_true + (5/9)*a2_false"
   ]
  },
  {
   "cell_type": "code",
   "execution_count": 5,
   "metadata": {},
   "outputs": [
    {
     "data": {
      "text/plain": [
       "0.22943684069673975"
      ]
     },
     "execution_count": 5,
     "metadata": {},
     "output_type": "execute_result"
    }
   ],
   "source": [
    "# Information gain of a_1\n",
    "IG_a1 = parent - a1_weighted\n",
    "\n",
    "# Outputting the results\n",
    "IG_a1"
   ]
  },
  {
   "cell_type": "code",
   "execution_count": 6,
   "metadata": {},
   "outputs": [
    {
     "data": {
      "text/plain": [
       "0.003986906747258434"
      ]
     },
     "execution_count": 6,
     "metadata": {},
     "output_type": "execute_result"
    }
   ],
   "source": [
    "# Information gain of a_2\n",
    "IG_a2 = parent - a2_weighted\n",
    "\n",
    "# Outputting the results\n",
    "IG_a2"
   ]
  },
  {
   "cell_type": "markdown",
   "metadata": {},
   "source": [
    "The information gain of $a_1$ is 0.2294 whereas the information gain of $a_2$ is 0.0039. Because the information gain of $a_1$ is higher, $a_1$ will be considered for splitting."
   ]
  },
  {
   "cell_type": "markdown",
   "metadata": {},
   "source": [
    "### Question 3"
   ]
  },
  {
   "cell_type": "markdown",
   "metadata": {},
   "source": [
    "Through a visual exploration of the $a_3$ values I determined the following split values: 0, 2, 3.5, 4.5, 5.5, 6.5, 7.5, and 8.5. Rather than calculating the information gain for each individual split, like I did above, I decided to create a dataframe that already tabulates the number of '+' and '-' for values that are less than or equal to the split and values that are greater than the split. I also visually inputted the numbers for the *<= (+)*, *<= (-)*, *> (+)*, and *> (-)* columns."
   ]
  },
  {
   "cell_type": "code",
   "execution_count": 7,
   "metadata": {},
   "outputs": [],
   "source": [
    "# Created a dataframe of the splitting of contineous attributes\n",
    "split_contineous = pd.DataFrame(data={'Split Position': [0, 2, 3.5, 4.5, 5.5, 6.5, 7.5, 8.5], \n",
    "                        '<= (+)': [0, 1, 1, 2, 2, 3, 4, 4],\n",
    "                        '<= (-)': [0, 0, 1, 1, 3, 3, 4, 5],\n",
    "                        '> (+)': [4, 3, 3, 2, 2, 1, 0, 0],\n",
    "                        '> (-)': [5, 5, 4, 4, 2, 2, 1, 0]})"
   ]
  },
  {
   "cell_type": "code",
   "execution_count": 8,
   "metadata": {},
   "outputs": [
    {
     "data": {
      "text/html": [
       "<div>\n",
       "<style scoped>\n",
       "    .dataframe tbody tr th:only-of-type {\n",
       "        vertical-align: middle;\n",
       "    }\n",
       "\n",
       "    .dataframe tbody tr th {\n",
       "        vertical-align: top;\n",
       "    }\n",
       "\n",
       "    .dataframe thead th {\n",
       "        text-align: right;\n",
       "    }\n",
       "</style>\n",
       "<table border=\"1\" class=\"dataframe\">\n",
       "  <thead>\n",
       "    <tr style=\"text-align: right;\">\n",
       "      <th></th>\n",
       "      <th>Split Position</th>\n",
       "      <th>&lt;= (+)</th>\n",
       "      <th>&lt;= (-)</th>\n",
       "      <th>&gt; (+)</th>\n",
       "      <th>&gt; (-)</th>\n",
       "    </tr>\n",
       "  </thead>\n",
       "  <tbody>\n",
       "    <tr>\n",
       "      <th>0</th>\n",
       "      <td>0.0</td>\n",
       "      <td>0</td>\n",
       "      <td>0</td>\n",
       "      <td>4</td>\n",
       "      <td>5</td>\n",
       "    </tr>\n",
       "    <tr>\n",
       "      <th>1</th>\n",
       "      <td>2.0</td>\n",
       "      <td>1</td>\n",
       "      <td>0</td>\n",
       "      <td>3</td>\n",
       "      <td>5</td>\n",
       "    </tr>\n",
       "    <tr>\n",
       "      <th>2</th>\n",
       "      <td>3.5</td>\n",
       "      <td>1</td>\n",
       "      <td>1</td>\n",
       "      <td>3</td>\n",
       "      <td>4</td>\n",
       "    </tr>\n",
       "    <tr>\n",
       "      <th>3</th>\n",
       "      <td>4.5</td>\n",
       "      <td>2</td>\n",
       "      <td>1</td>\n",
       "      <td>2</td>\n",
       "      <td>4</td>\n",
       "    </tr>\n",
       "    <tr>\n",
       "      <th>4</th>\n",
       "      <td>5.5</td>\n",
       "      <td>2</td>\n",
       "      <td>3</td>\n",
       "      <td>2</td>\n",
       "      <td>2</td>\n",
       "    </tr>\n",
       "    <tr>\n",
       "      <th>5</th>\n",
       "      <td>6.5</td>\n",
       "      <td>3</td>\n",
       "      <td>3</td>\n",
       "      <td>1</td>\n",
       "      <td>2</td>\n",
       "    </tr>\n",
       "    <tr>\n",
       "      <th>6</th>\n",
       "      <td>7.5</td>\n",
       "      <td>4</td>\n",
       "      <td>4</td>\n",
       "      <td>0</td>\n",
       "      <td>1</td>\n",
       "    </tr>\n",
       "    <tr>\n",
       "      <th>7</th>\n",
       "      <td>8.5</td>\n",
       "      <td>4</td>\n",
       "      <td>5</td>\n",
       "      <td>0</td>\n",
       "      <td>0</td>\n",
       "    </tr>\n",
       "  </tbody>\n",
       "</table>\n",
       "</div>"
      ],
      "text/plain": [
       "   Split Position  <= (+)  <= (-)  > (+)  > (-)\n",
       "0             0.0       0       0      4      5\n",
       "1             2.0       1       0      3      5\n",
       "2             3.5       1       1      3      4\n",
       "3             4.5       2       1      2      4\n",
       "4             5.5       2       3      2      2\n",
       "5             6.5       3       3      1      2\n",
       "6             7.5       4       4      0      1\n",
       "7             8.5       4       5      0      0"
      ]
     },
     "execution_count": 8,
     "metadata": {},
     "output_type": "execute_result"
    }
   ],
   "source": [
    "# Outputting the results of the dataframe\n",
    "split_contineous"
   ]
  },
  {
   "cell_type": "code",
   "execution_count": 9,
   "metadata": {},
   "outputs": [
    {
     "name": "stdout",
     "output_type": "stream",
     "text": [
      "{'Split Position': 0.0, 'Information Gain': 0.0}\n",
      "{'Split Position': 2.0, 'Information Gain': 0.14269027946047563}\n",
      "{'Split Position': 3.5, 'Information Gain': 0.0025652873671375698}\n",
      "{'Split Position': 4.5, 'Information Gain': 0.07278022578373267}\n",
      "{'Split Position': 5.5, 'Information Gain': 0.007214618474517431}\n",
      "{'Split Position': 6.5, 'Information Gain': 0.018310781820059074}\n",
      "{'Split Position': 7.5, 'Information Gain': 0.10218717094933338}\n",
      "{'Split Position': 8.5, 'Information Gain': 0.0}\n"
     ]
    }
   ],
   "source": [
    "# Creating a for loop to help calculate the information gain of each split\n",
    "for i in range(0,8):\n",
    "    # Saving the denominator based on whether it was less than or greater than the split\n",
    "    sum_less = split_contineous.iloc[i,1] + split_contineous.iloc[i,2]\n",
    "    sum_more = split_contineous.iloc[i,3] + split_contineous.iloc[i,4]\n",
    "    # Preventing the for loop from trying to calculate log(0) by asking it directly assign the value as 0\n",
    "    if sum_less != 0: \n",
    "        try:\n",
    "            # The entropy equation as above but for the values that are less than the split\n",
    "            entropy_less = (-(split_contineous.iloc[i,1]/sum_less) * math.log((split_contineous.iloc[i,1]/sum_less), 2)) - ((split_contineous.iloc[i,2]/sum_less) * math.log((split_contineous.iloc[i,2]/sum_less), 2))\n",
    "        # Preventing the 'ValueError' by telling the for loop to assign the value as 0\n",
    "        except ValueError:\n",
    "            entropy_less = 0\n",
    "    elif sum_less == 0:\n",
    "        entropy_less = 0\n",
    "    if sum_more != 0:\n",
    "        try:\n",
    "            entropy_more = (-(split_contineous.iloc[i,3]/sum_more) * math.log((split_contineous.iloc[i,3]/sum_more), 2)) - ((split_contineous.iloc[i,4]/sum_more) * math.log((split_contineous.iloc[i,4]/sum_more), 2))\n",
    "        except ValueError:\n",
    "            entropy_more = 0\n",
    "    elif sum_more == 0:\n",
    "        entropy_more = 0 \n",
    "    # Calculating the information gain via a weighted entropy\n",
    "    print({'Split Position': split_contineous.iloc[i,0], \n",
    "           'Information Gain': parent - ((sum_less/9) * entropy_less + (sum_more/9) * entropy_more)})"
   ]
  },
  {
   "cell_type": "markdown",
   "metadata": {},
   "source": [
    "According to the above dictionary the best split point is at 2."
   ]
  },
  {
   "cell_type": "markdown",
   "metadata": {},
   "source": [
    "### Question 4"
   ]
  },
  {
   "cell_type": "markdown",
   "metadata": {},
   "source": [
    "The attribute that provides the best split, according to the information gain, is $a_1$.\n",
    "* $a_1$ information gain of 0.2294\n",
    "* $a_2$ information gain of 0.0039\n",
    "* $a_3$ information gain of 0.1426"
   ]
  },
  {
   "cell_type": "markdown",
   "metadata": {},
   "source": [
    "### Question 5"
   ]
  },
  {
   "cell_type": "code",
   "execution_count": 10,
   "metadata": {},
   "outputs": [
    {
     "data": {
      "text/plain": [
       "0.345679012345679"
      ]
     },
     "execution_count": 10,
     "metadata": {},
     "output_type": "execute_result"
    }
   ],
   "source": [
    "# Calculating the Gini Index for a_1\n",
    "# Here 7/9 represents the proporation of classes the a_1 attribute correctly classified \n",
    "a1_gini = 1 - ((7/9) ** 2 + (2/9) ** 2)\n",
    "\n",
    "# Outputting the results \n",
    "a1_gini"
   ]
  },
  {
   "cell_type": "code",
   "execution_count": 11,
   "metadata": {},
   "outputs": [
    {
     "data": {
      "text/plain": [
       "0.49382716049382713"
      ]
     },
     "execution_count": 11,
     "metadata": {},
     "output_type": "execute_result"
    }
   ],
   "source": [
    "# Calculating the Gini Index for a_1\n",
    "# Here 7/9 represents the proporation of classes the a_1 attribute correctly classified \n",
    "a2_gini = 1 - ((4/9) ** 2 + (5/9) ** 2)\n",
    "\n",
    "# Outputting the results \n",
    "a2_gini"
   ]
  },
  {
   "cell_type": "markdown",
   "metadata": {},
   "source": [
    "The $a_1$ gini index is 0.3456 whereas the $a_2$ gini index is 0.4938. Based on these values, $a_1$ is still the attribute that provides the best split."
   ]
  },
  {
   "cell_type": "markdown",
   "metadata": {},
   "source": [
    "## Part 2"
   ]
  },
  {
   "cell_type": "code",
   "execution_count": 12,
   "metadata": {},
   "outputs": [],
   "source": [
    "# Reading in the the CSV file\n",
    "robocall = pd.read_csv('donotcall.csv')"
   ]
  },
  {
   "cell_type": "code",
   "execution_count": 13,
   "metadata": {},
   "outputs": [
    {
     "data": {
      "text/html": [
       "<div>\n",
       "<style scoped>\n",
       "    .dataframe tbody tr th:only-of-type {\n",
       "        vertical-align: middle;\n",
       "    }\n",
       "\n",
       "    .dataframe tbody tr th {\n",
       "        vertical-align: top;\n",
       "    }\n",
       "\n",
       "    .dataframe thead th {\n",
       "        text-align: right;\n",
       "    }\n",
       "</style>\n",
       "<table border=\"1\" class=\"dataframe\">\n",
       "  <thead>\n",
       "    <tr style=\"text-align: right;\">\n",
       "      <th></th>\n",
       "      <th>caller_phone</th>\n",
       "      <th>violation_date</th>\n",
       "      <th>consumer_area_code</th>\n",
       "      <th>subject</th>\n",
       "      <th>is_robocall</th>\n",
       "    </tr>\n",
       "  </thead>\n",
       "  <tbody>\n",
       "    <tr>\n",
       "      <th>0</th>\n",
       "      <td>9495063579</td>\n",
       "      <td>2020-03-30 14:07:00</td>\n",
       "      <td>858</td>\n",
       "      <td>Other</td>\n",
       "      <td>N</td>\n",
       "    </tr>\n",
       "    <tr>\n",
       "      <th>1</th>\n",
       "      <td>8443555004</td>\n",
       "      <td>2020-03-19 21:46:00</td>\n",
       "      <td>479</td>\n",
       "      <td>No Subject Provided</td>\n",
       "      <td>Y</td>\n",
       "    </tr>\n",
       "    <tr>\n",
       "      <th>2</th>\n",
       "      <td>8005256699</td>\n",
       "      <td>2020-03-30 18:47:00</td>\n",
       "      <td>619</td>\n",
       "      <td>Other</td>\n",
       "      <td>Y</td>\n",
       "    </tr>\n",
       "    <tr>\n",
       "      <th>3</th>\n",
       "      <td>9152680729</td>\n",
       "      <td>2020-03-19 17:35:00</td>\n",
       "      <td>479</td>\n",
       "      <td>No Subject Provided</td>\n",
       "      <td>Y</td>\n",
       "    </tr>\n",
       "    <tr>\n",
       "      <th>4</th>\n",
       "      <td>7186535424</td>\n",
       "      <td>2020-03-19 11:42:00</td>\n",
       "      <td>479</td>\n",
       "      <td>No Subject Provided</td>\n",
       "      <td>Y</td>\n",
       "    </tr>\n",
       "    <tr>\n",
       "      <th>...</th>\n",
       "      <td>...</td>\n",
       "      <td>...</td>\n",
       "      <td>...</td>\n",
       "      <td>...</td>\n",
       "      <td>...</td>\n",
       "    </tr>\n",
       "    <tr>\n",
       "      <th>82053</th>\n",
       "      <td>5412348748</td>\n",
       "      <td>2020-03-26 13:51:00</td>\n",
       "      <td>541</td>\n",
       "      <td>No Subject Provided</td>\n",
       "      <td>N</td>\n",
       "    </tr>\n",
       "    <tr>\n",
       "      <th>82054</th>\n",
       "      <td>3213381993</td>\n",
       "      <td>2019-10-01 00:00:00</td>\n",
       "      <td>703</td>\n",
       "      <td>Vacation  &amp; timeshares</td>\n",
       "      <td>N</td>\n",
       "    </tr>\n",
       "    <tr>\n",
       "      <th>82055</th>\n",
       "      <td>4075658366</td>\n",
       "      <td>2020-03-26 13:54:00</td>\n",
       "      <td>302</td>\n",
       "      <td>Dropped call or no message</td>\n",
       "      <td>Y</td>\n",
       "    </tr>\n",
       "    <tr>\n",
       "      <th>82056</th>\n",
       "      <td>8106348601</td>\n",
       "      <td>2020-03-26 16:13:00</td>\n",
       "      <td>248</td>\n",
       "      <td>Dropped call or no message</td>\n",
       "      <td>N</td>\n",
       "    </tr>\n",
       "    <tr>\n",
       "      <th>82057</th>\n",
       "      <td>5412295497</td>\n",
       "      <td>2020-03-26 09:53:00</td>\n",
       "      <td>541</td>\n",
       "      <td>No Subject Provided</td>\n",
       "      <td>N</td>\n",
       "    </tr>\n",
       "  </tbody>\n",
       "</table>\n",
       "<p>82058 rows × 5 columns</p>\n",
       "</div>"
      ],
      "text/plain": [
       "      caller_phone       violation_date  consumer_area_code  \\\n",
       "0       9495063579  2020-03-30 14:07:00                 858   \n",
       "1       8443555004  2020-03-19 21:46:00                 479   \n",
       "2       8005256699  2020-03-30 18:47:00                 619   \n",
       "3       9152680729  2020-03-19 17:35:00                 479   \n",
       "4       7186535424  2020-03-19 11:42:00                 479   \n",
       "...            ...                  ...                 ...   \n",
       "82053   5412348748  2020-03-26 13:51:00                 541   \n",
       "82054   3213381993  2019-10-01 00:00:00                 703   \n",
       "82055   4075658366  2020-03-26 13:54:00                 302   \n",
       "82056   8106348601  2020-03-26 16:13:00                 248   \n",
       "82057   5412295497  2020-03-26 09:53:00                 541   \n",
       "\n",
       "                          subject is_robocall  \n",
       "0                           Other           N  \n",
       "1             No Subject Provided           Y  \n",
       "2                           Other           Y  \n",
       "3             No Subject Provided           Y  \n",
       "4             No Subject Provided           Y  \n",
       "...                           ...         ...  \n",
       "82053         No Subject Provided           N  \n",
       "82054      Vacation  & timeshares           N  \n",
       "82055  Dropped call or no message           Y  \n",
       "82056  Dropped call or no message           N  \n",
       "82057         No Subject Provided           N  \n",
       "\n",
       "[82058 rows x 5 columns]"
      ]
     },
     "execution_count": 13,
     "metadata": {},
     "output_type": "execute_result"
    }
   ],
   "source": [
    "# Viewing the data as a dataframe \n",
    "robocall"
   ]
  },
  {
   "cell_type": "markdown",
   "metadata": {},
   "source": [
    "### Question 1"
   ]
  },
  {
   "cell_type": "markdown",
   "metadata": {},
   "source": [
    "#### Attribute Types"
   ]
  },
  {
   "cell_type": "code",
   "execution_count": 14,
   "metadata": {},
   "outputs": [
    {
     "data": {
      "text/plain": [
       "caller_phone          object\n",
       "violation_date        object\n",
       "consumer_area_code     int64\n",
       "subject               object\n",
       "is_robocall           object\n",
       "dtype: object"
      ]
     },
     "execution_count": 14,
     "metadata": {},
     "output_type": "execute_result"
    }
   ],
   "source": [
    "# Listing the datatypes of each attribute\n",
    "robocall.dtypes"
   ]
  },
  {
   "cell_type": "markdown",
   "metadata": {},
   "source": [
    "Given that there are only 5 attributes, I will classify all 5 below. \n",
    "* *caller_phone* Qualitative, discrete, nominal attribute. The phone number here doesn't really provide any new information outside of distinguishing one value from another. \n",
    "* *violation_date* Quantitative, discrete, interval attribute. \n",
    "* *consumer_area_code* Qualitative, discrete, nominal attribute. Similar to *caller_phone* in that it doesn't provide any new information outside of distinguishing one value from another. Also important to note that this value is the only one that is an integer type whereas the other 4 attributes are objects. \n",
    "* *subject* Qualitative, nominal attribute. I'm unclear on whether text can be classified as discrete or continuous or not. \n",
    "* *is_robocall* Quantitative, discrete, binary. Only two values exist: Yes (Y) or No (N)."
   ]
  },
  {
   "cell_type": "markdown",
   "metadata": {},
   "source": [
    "#### Resolution and possible alternative units of analysis"
   ]
  },
  {
   "cell_type": "markdown",
   "metadata": {},
   "source": [
    "The current resolution is at a caller phone number, violation date, and robocall status level. I think an alternative unit of analysis could be by *consumer_area_code* which could help tell us if there are specific area codes that more targetted than others, or by violation date to see if there are specific days that are more popular than others."
   ]
  },
  {
   "cell_type": "markdown",
   "metadata": {},
   "source": [
    "#### Dimensionality"
   ]
  },
  {
   "cell_type": "code",
   "execution_count": 15,
   "metadata": {},
   "outputs": [
    {
     "data": {
      "text/plain": [
       "5"
      ]
     },
     "execution_count": 15,
     "metadata": {},
     "output_type": "execute_result"
    }
   ],
   "source": [
    "# Counting the number of attributes (columns)\n",
    "len(robocall.columns)"
   ]
  },
  {
   "cell_type": "code",
   "execution_count": 16,
   "metadata": {},
   "outputs": [
    {
     "data": {
      "text/plain": [
       "82058"
      ]
     },
     "execution_count": 16,
     "metadata": {},
     "output_type": "execute_result"
    }
   ],
   "source": [
    "# Counting the number of oberservations\n",
    "len(robocall)"
   ]
  },
  {
   "cell_type": "markdown",
   "metadata": {},
   "source": [
    "There are 5 total attributes and 82058 rows."
   ]
  },
  {
   "cell_type": "markdown",
   "metadata": {},
   "source": [
    "#### Missing Values"
   ]
  },
  {
   "cell_type": "code",
   "execution_count": 17,
   "metadata": {},
   "outputs": [
    {
     "data": {
      "text/plain": [
       "caller_phone          3781\n",
       "violation_date           0\n",
       "consumer_area_code       0\n",
       "subject                  0\n",
       "is_robocall           6097\n",
       "dtype: int64"
      ]
     },
     "execution_count": 17,
     "metadata": {},
     "output_type": "execute_result"
    }
   ],
   "source": [
    "# Determining the number of missing values per attribute\n",
    "robocall.isna().sum()"
   ]
  },
  {
   "cell_type": "markdown",
   "metadata": {},
   "source": [
    "Of the 5 attributes *caller_phone* and *is_robocall* have the most missing values. For *caller_phone*, this is most likely due to the fact that some robocallers, or even regular calls, can come up as \"Unknown\" or \"Private number\". I've also seen instances where the number came up as \"Scam Likely\" which also hides the phone number.\n",
    "\n",
    "For *is_robocall*, if we take a look at the code book provided by the FTC API, we can see that *is_robocall* tells you whether the complaints were recorded messages or not. If this column has an NaN values it could be assumed that somehow something happened with the call where it wasn't clear whether it was a robocall or not."
   ]
  },
  {
   "cell_type": "markdown",
   "metadata": {},
   "source": [
    "### Question 2"
   ]
  },
  {
   "cell_type": "code",
   "execution_count": 18,
   "metadata": {},
   "outputs": [],
   "source": [
    "# Extracting the first 3 digits of the 'caller_phone' column and saving it as AC\n",
    "AC = robocall.caller_phone.str.extract(r'(\\d{1,3})').squeeze()\n",
    "\n",
    "# Saving the results of AC into a new dataframe column called 'area_code'\n",
    "robocall['area_code'] = AC\n",
    "\n",
    "# Coverting the object class to float type\n",
    "robocall['area_code'] = robocall.area_code.apply(pd.to_numeric, errors = 'ignore') # Using error 'ignore' to leave NaN values alone\n",
    "\n",
    "# Creating a new column called 'same_area_code' that compares 'consumer_area_code' and 'area_code'\n",
    "robocall['same_area_code'] = np.where(robocall.consumer_area_code == robocall.area_code, 1, 0)\n",
    "\n",
    "# Dropping the column 'area_code'\n",
    "robocall = robocall.drop('area_code', axis = 1)"
   ]
  },
  {
   "cell_type": "markdown",
   "metadata": {},
   "source": [
    "### Question 3"
   ]
  },
  {
   "cell_type": "code",
   "execution_count": 19,
   "metadata": {},
   "outputs": [
    {
     "data": {
      "text/html": [
       "<div>\n",
       "<style scoped>\n",
       "    .dataframe tbody tr th:only-of-type {\n",
       "        vertical-align: middle;\n",
       "    }\n",
       "\n",
       "    .dataframe tbody tr th {\n",
       "        vertical-align: top;\n",
       "    }\n",
       "\n",
       "    .dataframe thead th {\n",
       "        text-align: right;\n",
       "    }\n",
       "</style>\n",
       "<table border=\"1\" class=\"dataframe\">\n",
       "  <thead>\n",
       "    <tr style=\"text-align: right;\">\n",
       "      <th></th>\n",
       "      <th>caller_phone</th>\n",
       "      <th>violation_date</th>\n",
       "      <th>consumer_area_code</th>\n",
       "      <th>subject</th>\n",
       "      <th>is_robocall</th>\n",
       "      <th>same_area_code</th>\n",
       "    </tr>\n",
       "  </thead>\n",
       "  <tbody>\n",
       "    <tr>\n",
       "      <th>28</th>\n",
       "      <td>6193506562</td>\n",
       "      <td>2020-03-30 11:00:00</td>\n",
       "      <td>619</td>\n",
       "      <td>Other</td>\n",
       "      <td>NaN</td>\n",
       "      <td>1</td>\n",
       "    </tr>\n",
       "    <tr>\n",
       "      <th>37</th>\n",
       "      <td>2173866296</td>\n",
       "      <td>2020-03-30 10:37:00</td>\n",
       "      <td>217</td>\n",
       "      <td>No Subject Provided</td>\n",
       "      <td>NaN</td>\n",
       "      <td>1</td>\n",
       "    </tr>\n",
       "    <tr>\n",
       "      <th>40</th>\n",
       "      <td>2172794294</td>\n",
       "      <td>2020-03-30 14:21:00</td>\n",
       "      <td>217</td>\n",
       "      <td>No Subject Provided</td>\n",
       "      <td>NaN</td>\n",
       "      <td>1</td>\n",
       "    </tr>\n",
       "    <tr>\n",
       "      <th>44</th>\n",
       "      <td>NaN</td>\n",
       "      <td>2020-03-31 00:15:00</td>\n",
       "      <td>603</td>\n",
       "      <td>Other</td>\n",
       "      <td>Y</td>\n",
       "      <td>0</td>\n",
       "    </tr>\n",
       "    <tr>\n",
       "      <th>54</th>\n",
       "      <td>NaN</td>\n",
       "      <td>2020-03-03 09:43:00</td>\n",
       "      <td>201</td>\n",
       "      <td>Calls pretending to be government, businesses,...</td>\n",
       "      <td>Y</td>\n",
       "      <td>0</td>\n",
       "    </tr>\n",
       "    <tr>\n",
       "      <th>...</th>\n",
       "      <td>...</td>\n",
       "      <td>...</td>\n",
       "      <td>...</td>\n",
       "      <td>...</td>\n",
       "      <td>...</td>\n",
       "      <td>...</td>\n",
       "    </tr>\n",
       "    <tr>\n",
       "      <th>81977</th>\n",
       "      <td>6202042755</td>\n",
       "      <td>2020-03-26 15:26:00</td>\n",
       "      <td>620</td>\n",
       "      <td>No Subject Provided</td>\n",
       "      <td>NaN</td>\n",
       "      <td>1</td>\n",
       "    </tr>\n",
       "    <tr>\n",
       "      <th>82003</th>\n",
       "      <td>4057259188</td>\n",
       "      <td>2020-03-26 15:00:00</td>\n",
       "      <td>216</td>\n",
       "      <td>Other</td>\n",
       "      <td>NaN</td>\n",
       "      <td>0</td>\n",
       "    </tr>\n",
       "    <tr>\n",
       "      <th>82006</th>\n",
       "      <td>2162842747</td>\n",
       "      <td>2020-03-26 15:00:00</td>\n",
       "      <td>216</td>\n",
       "      <td>Other</td>\n",
       "      <td>NaN</td>\n",
       "      <td>1</td>\n",
       "    </tr>\n",
       "    <tr>\n",
       "      <th>82038</th>\n",
       "      <td>NaN</td>\n",
       "      <td>2020-03-25 20:30:00</td>\n",
       "      <td>503</td>\n",
       "      <td>No Subject Provided</td>\n",
       "      <td>Y</td>\n",
       "      <td>0</td>\n",
       "    </tr>\n",
       "    <tr>\n",
       "      <th>82045</th>\n",
       "      <td>7144090745</td>\n",
       "      <td>2020-03-26 13:48:00</td>\n",
       "      <td>714</td>\n",
       "      <td>Dropped call or no message</td>\n",
       "      <td>NaN</td>\n",
       "      <td>1</td>\n",
       "    </tr>\n",
       "  </tbody>\n",
       "</table>\n",
       "<p>9652 rows × 6 columns</p>\n",
       "</div>"
      ],
      "text/plain": [
       "      caller_phone       violation_date  consumer_area_code  \\\n",
       "28      6193506562  2020-03-30 11:00:00                 619   \n",
       "37      2173866296  2020-03-30 10:37:00                 217   \n",
       "40      2172794294  2020-03-30 14:21:00                 217   \n",
       "44             NaN  2020-03-31 00:15:00                 603   \n",
       "54             NaN  2020-03-03 09:43:00                 201   \n",
       "...            ...                  ...                 ...   \n",
       "81977   6202042755  2020-03-26 15:26:00                 620   \n",
       "82003   4057259188  2020-03-26 15:00:00                 216   \n",
       "82006   2162842747  2020-03-26 15:00:00                 216   \n",
       "82038          NaN  2020-03-25 20:30:00                 503   \n",
       "82045   7144090745  2020-03-26 13:48:00                 714   \n",
       "\n",
       "                                                 subject is_robocall  \\\n",
       "28                                                 Other         NaN   \n",
       "37                                   No Subject Provided         NaN   \n",
       "40                                   No Subject Provided         NaN   \n",
       "44                                                 Other           Y   \n",
       "54     Calls pretending to be government, businesses,...           Y   \n",
       "...                                                  ...         ...   \n",
       "81977                                No Subject Provided         NaN   \n",
       "82003                                              Other         NaN   \n",
       "82006                                              Other         NaN   \n",
       "82038                                No Subject Provided           Y   \n",
       "82045                         Dropped call or no message         NaN   \n",
       "\n",
       "       same_area_code  \n",
       "28                  1  \n",
       "37                  1  \n",
       "40                  1  \n",
       "44                  0  \n",
       "54                  0  \n",
       "...               ...  \n",
       "81977               1  \n",
       "82003               0  \n",
       "82006               1  \n",
       "82038               0  \n",
       "82045               1  \n",
       "\n",
       "[9652 rows x 6 columns]"
      ]
     },
     "execution_count": 19,
     "metadata": {},
     "output_type": "execute_result"
    }
   ],
   "source": [
    "# Outputting the the total number of missing values\n",
    "robocall[robocall.isna().any(axis=1)]"
   ]
  },
  {
   "cell_type": "markdown",
   "metadata": {},
   "source": [
    "As we can see above, there 9652 rows of missing values. Given that our total dataset contains 82058 rows, losing 9652 rows is a relatively small number. As such, we will move forward with dropping all NaN values."
   ]
  },
  {
   "cell_type": "code",
   "execution_count": 20,
   "metadata": {},
   "outputs": [],
   "source": [
    "# Dropping NaN\n",
    "robocall = robocall.dropna()"
   ]
  },
  {
   "cell_type": "code",
   "execution_count": 21,
   "metadata": {},
   "outputs": [
    {
     "data": {
      "text/html": [
       "<div>\n",
       "<style scoped>\n",
       "    .dataframe tbody tr th:only-of-type {\n",
       "        vertical-align: middle;\n",
       "    }\n",
       "\n",
       "    .dataframe tbody tr th {\n",
       "        vertical-align: top;\n",
       "    }\n",
       "\n",
       "    .dataframe thead th {\n",
       "        text-align: right;\n",
       "    }\n",
       "</style>\n",
       "<table border=\"1\" class=\"dataframe\">\n",
       "  <thead>\n",
       "    <tr style=\"text-align: right;\">\n",
       "      <th></th>\n",
       "      <th>caller_phone</th>\n",
       "      <th>violation_date</th>\n",
       "      <th>consumer_area_code</th>\n",
       "      <th>subject</th>\n",
       "      <th>is_robocall</th>\n",
       "      <th>same_area_code</th>\n",
       "    </tr>\n",
       "  </thead>\n",
       "  <tbody>\n",
       "    <tr>\n",
       "      <th>0</th>\n",
       "      <td>9495063579</td>\n",
       "      <td>2020-03-30 14:07:00</td>\n",
       "      <td>858</td>\n",
       "      <td>Other</td>\n",
       "      <td>N</td>\n",
       "      <td>0</td>\n",
       "    </tr>\n",
       "    <tr>\n",
       "      <th>1</th>\n",
       "      <td>8443555004</td>\n",
       "      <td>2020-03-19 21:46:00</td>\n",
       "      <td>479</td>\n",
       "      <td>No Subject Provided</td>\n",
       "      <td>Y</td>\n",
       "      <td>0</td>\n",
       "    </tr>\n",
       "    <tr>\n",
       "      <th>2</th>\n",
       "      <td>8005256699</td>\n",
       "      <td>2020-03-30 18:47:00</td>\n",
       "      <td>619</td>\n",
       "      <td>Other</td>\n",
       "      <td>Y</td>\n",
       "      <td>0</td>\n",
       "    </tr>\n",
       "    <tr>\n",
       "      <th>3</th>\n",
       "      <td>9152680729</td>\n",
       "      <td>2020-03-19 17:35:00</td>\n",
       "      <td>479</td>\n",
       "      <td>No Subject Provided</td>\n",
       "      <td>Y</td>\n",
       "      <td>0</td>\n",
       "    </tr>\n",
       "    <tr>\n",
       "      <th>4</th>\n",
       "      <td>7186535424</td>\n",
       "      <td>2020-03-19 11:42:00</td>\n",
       "      <td>479</td>\n",
       "      <td>No Subject Provided</td>\n",
       "      <td>Y</td>\n",
       "      <td>0</td>\n",
       "    </tr>\n",
       "    <tr>\n",
       "      <th>...</th>\n",
       "      <td>...</td>\n",
       "      <td>...</td>\n",
       "      <td>...</td>\n",
       "      <td>...</td>\n",
       "      <td>...</td>\n",
       "      <td>...</td>\n",
       "    </tr>\n",
       "    <tr>\n",
       "      <th>82053</th>\n",
       "      <td>5412348748</td>\n",
       "      <td>2020-03-26 13:51:00</td>\n",
       "      <td>541</td>\n",
       "      <td>No Subject Provided</td>\n",
       "      <td>N</td>\n",
       "      <td>1</td>\n",
       "    </tr>\n",
       "    <tr>\n",
       "      <th>82054</th>\n",
       "      <td>3213381993</td>\n",
       "      <td>2019-10-01 00:00:00</td>\n",
       "      <td>703</td>\n",
       "      <td>Vacation  &amp; timeshares</td>\n",
       "      <td>N</td>\n",
       "      <td>0</td>\n",
       "    </tr>\n",
       "    <tr>\n",
       "      <th>82055</th>\n",
       "      <td>4075658366</td>\n",
       "      <td>2020-03-26 13:54:00</td>\n",
       "      <td>302</td>\n",
       "      <td>Dropped call or no message</td>\n",
       "      <td>Y</td>\n",
       "      <td>0</td>\n",
       "    </tr>\n",
       "    <tr>\n",
       "      <th>82056</th>\n",
       "      <td>8106348601</td>\n",
       "      <td>2020-03-26 16:13:00</td>\n",
       "      <td>248</td>\n",
       "      <td>Dropped call or no message</td>\n",
       "      <td>N</td>\n",
       "      <td>0</td>\n",
       "    </tr>\n",
       "    <tr>\n",
       "      <th>82057</th>\n",
       "      <td>5412295497</td>\n",
       "      <td>2020-03-26 09:53:00</td>\n",
       "      <td>541</td>\n",
       "      <td>No Subject Provided</td>\n",
       "      <td>N</td>\n",
       "      <td>1</td>\n",
       "    </tr>\n",
       "  </tbody>\n",
       "</table>\n",
       "<p>72406 rows × 6 columns</p>\n",
       "</div>"
      ],
      "text/plain": [
       "      caller_phone       violation_date  consumer_area_code  \\\n",
       "0       9495063579  2020-03-30 14:07:00                 858   \n",
       "1       8443555004  2020-03-19 21:46:00                 479   \n",
       "2       8005256699  2020-03-30 18:47:00                 619   \n",
       "3       9152680729  2020-03-19 17:35:00                 479   \n",
       "4       7186535424  2020-03-19 11:42:00                 479   \n",
       "...            ...                  ...                 ...   \n",
       "82053   5412348748  2020-03-26 13:51:00                 541   \n",
       "82054   3213381993  2019-10-01 00:00:00                 703   \n",
       "82055   4075658366  2020-03-26 13:54:00                 302   \n",
       "82056   8106348601  2020-03-26 16:13:00                 248   \n",
       "82057   5412295497  2020-03-26 09:53:00                 541   \n",
       "\n",
       "                          subject is_robocall  same_area_code  \n",
       "0                           Other           N               0  \n",
       "1             No Subject Provided           Y               0  \n",
       "2                           Other           Y               0  \n",
       "3             No Subject Provided           Y               0  \n",
       "4             No Subject Provided           Y               0  \n",
       "...                           ...         ...             ...  \n",
       "82053         No Subject Provided           N               1  \n",
       "82054      Vacation  & timeshares           N               0  \n",
       "82055  Dropped call or no message           Y               0  \n",
       "82056  Dropped call or no message           N               0  \n",
       "82057         No Subject Provided           N               1  \n",
       "\n",
       "[72406 rows x 6 columns]"
      ]
     },
     "execution_count": 21,
     "metadata": {},
     "output_type": "execute_result"
    }
   ],
   "source": [
    "robocall"
   ]
  },
  {
   "cell_type": "code",
   "execution_count": 22,
   "metadata": {},
   "outputs": [],
   "source": [
    "# Creating a target array of 'is_robocall'\n",
    "y = robocall['is_robocall']\n",
    "\n",
    "# Creating a feature matrix of 'subject' and 'same_area_code'\n",
    "X = robocall.drop(['caller_phone', 'violation_date', 'consumer_area_code', 'is_robocall'], axis=1)"
   ]
  },
  {
   "cell_type": "code",
   "execution_count": 23,
   "metadata": {},
   "outputs": [],
   "source": [
    "#save the feature name and target variables\n",
    "X_names = X.columns\n",
    "labels = y.values"
   ]
  },
  {
   "cell_type": "code",
   "execution_count": 24,
   "metadata": {},
   "outputs": [],
   "source": [
    "# Encoding target variable values using LabelEncoder\n",
    "lb = LabelEncoder()\n",
    "y = lb.fit_transform(y)"
   ]
  },
  {
   "cell_type": "markdown",
   "metadata": {},
   "source": [
    "### Question 4"
   ]
  },
  {
   "cell_type": "code",
   "execution_count": 25,
   "metadata": {},
   "outputs": [],
   "source": [
    "# Converting the subject variable into dummies for the feature matrix \n",
    "X = pd.get_dummies(X, columns=['subject'])"
   ]
  },
  {
   "cell_type": "markdown",
   "metadata": {},
   "source": [
    "### Question 5"
   ]
  },
  {
   "cell_type": "code",
   "execution_count": 26,
   "metadata": {},
   "outputs": [
    {
     "data": {
      "text/plain": [
       "DecisionTreeClassifier(random_state=1994)"
      ]
     },
     "execution_count": 26,
     "metadata": {},
     "output_type": "execute_result"
    }
   ],
   "source": [
    "# Intializing the DecisionTreeClassifier\n",
    "mod = DTree(random_state = 1994)\n",
    "\n",
    "# Fitting the model\n",
    "mod.fit(X, y)"
   ]
  },
  {
   "cell_type": "code",
   "execution_count": 27,
   "metadata": {},
   "outputs": [
    {
     "name": "stdout",
     "output_type": "stream",
     "text": [
      "Average cross-validation score: 0.7408\n"
     ]
    }
   ],
   "source": [
    "# Evaluating the performance using five-fold cross-validation\n",
    "scores = cross_val_score(mod, X, y)\n",
    "\n",
    "# Printing the mean accuracy score\n",
    "print(\"Average cross-validation score: {:.4f}\".format(scores.mean()))"
   ]
  },
  {
   "cell_type": "markdown",
   "metadata": {},
   "source": [
    "### Question 6"
   ]
  },
  {
   "cell_type": "code",
   "execution_count": 28,
   "metadata": {},
   "outputs": [],
   "source": [
    "# Splitting the validation into train_scores and test_scores\n",
    "train_scores, test_scores = validation_curve(mod, X, y, param_name=\"max_depth\", param_range=np.arange(1, 11), cv = 5)"
   ]
  },
  {
   "cell_type": "code",
   "execution_count": 29,
   "metadata": {},
   "outputs": [],
   "source": [
    "# Generating the means\n",
    "train_mean = np.mean(train_scores, axis = 1)\n",
    "test_mean = np.mean(test_scores, axis = 1)"
   ]
  },
  {
   "cell_type": "code",
   "execution_count": 30,
   "metadata": {},
   "outputs": [
    {
     "data": {
      "image/png": "[encoded data removed]",
      "text/plain": [
       "<Figure size 432x288 with 1 Axes>"
      ]
     },
     "metadata": {
      "needs_background": "light"
     },
     "output_type": "display_data"
    }
   ],
   "source": [
    "# Plotting the validation curve\n",
    "fig1 = plt.figure()\n",
    "plt.plot(train_mean, label='Train')\n",
    "plt.plot(test_mean, label='Test')\n",
    "plt.xlabel('max_depth')\n",
    "plt.ylabel('Score')\n",
    "plt.title('Decision Tree Classifier Validation Curve')\n",
    "plt.legend()\n",
    "\n",
    "# Showing the plot\n",
    "plt.show()"
   ]
  },
  {
   "cell_type": "markdown",
   "metadata": {},
   "source": [
    "Given the bias-variance tradeoff of any model, we need to choose the best value that results in the lowest bias (avoiding underfitting) as well as lowest variance (svoiding overfitting). That values, for this specific model, is a `max_depth` of anything above 3 as the model plateaus at that depth."
   ]
  },
  {
   "cell_type": "markdown",
   "metadata": {},
   "source": [
    "### Question 7"
   ]
  },
  {
   "cell_type": "code",
   "execution_count": 31,
   "metadata": {},
   "outputs": [],
   "source": [
    "# Splitting the data into a test and training dataset\n",
    "train_X, test_X, train_y, test_y = train_test_split(X, y, test_size = .2, random_state = 1994)"
   ]
  },
  {
   "cell_type": "code",
   "execution_count": 32,
   "metadata": {},
   "outputs": [
    {
     "data": {
      "text/plain": [
       "DecisionTreeClassifier(max_depth=3, random_state=1994)"
      ]
     },
     "execution_count": 32,
     "metadata": {},
     "output_type": "execute_result"
    }
   ],
   "source": [
    "# Intializing the DecisionTreeClassifier for a max_depth of 3\n",
    "mod_max = DTree(max_depth = 3, random_state = 1994)\n",
    "\n",
    "# Fitting the model\n",
    "mod_max.fit(train_X, train_y)"
   ]
  },
  {
   "cell_type": "code",
   "execution_count": 33,
   "metadata": {},
   "outputs": [
    {
     "name": "stdout",
     "output_type": "stream",
     "text": [
      "Accuracy score: 0.7384\n"
     ]
    }
   ],
   "source": [
    "# Printing the accuracy score for the test data\n",
    "print(\"Accuracy score: {:.4f}\".format(mod_max.score(test_X, test_y)))"
   ]
  },
  {
   "cell_type": "markdown",
   "metadata": {},
   "source": [
    "### Question 8"
   ]
  },
  {
   "cell_type": "code",
   "execution_count": 34,
   "metadata": {},
   "outputs": [],
   "source": [
    "# Generating predictions\n",
    "pred_X = mod_max.predict(test_X)"
   ]
  },
  {
   "cell_type": "code",
   "execution_count": 35,
   "metadata": {},
   "outputs": [],
   "source": [
    "# Creating a confusion matrix for mod_max\n",
    "mod_max_matrix = confusion_matrix(test_y, pred_X)\n",
    "\n",
    "# Turning the matrix into a dataframe\n",
    "matrix_df = pd.DataFrame(mod_max_matrix)"
   ]
  },
  {
   "cell_type": "code",
   "execution_count": 36,
   "metadata": {},
   "outputs": [
    {
     "data": {
      "image/png": "[encoded data removed]",
      "text/plain": [
       "<Figure size 432x288 with 2 Axes>"
      ]
     },
     "metadata": {
      "needs_background": "light"
     },
     "output_type": "display_data"
    },
    {
     "data": {
      "text/plain": [
       "<Figure size 720x504 with 0 Axes>"
      ]
     },
     "metadata": {},
     "output_type": "display_data"
    }
   ],
   "source": [
    "# Plotting the results\n",
    "ax = plt.axes()\n",
    "sns.set(font_scale = 1.3)\n",
    "plt.figure(figsize = (10,7))\n",
    "sns.heatmap(matrix_df, annot = True, fmt = \"g\", ax = ax, cmap = \"YlGnBu\")\n",
    "ax.set_title('Confusion Matrix - Decision Tree')\n",
    "ax.set_xlabel(\"Predicted label\", fontsize = 15)\n",
    "ax.set_ylabel(\"True Label\", fontsize = 15)\n",
    "\n",
    "# Showing the plot\n",
    "plt.show()"
   ]
  },
  {
   "cell_type": "markdown",
   "metadata": {},
   "source": [
    "According to the above confusion matrix the classification error that is the most prevelent are false positives (an issue of specificity)."
   ]
  },
  {
   "cell_type": "markdown",
   "metadata": {},
   "source": [
    "### Question 9"
   ]
  },
  {
   "cell_type": "markdown",
   "metadata": {},
   "source": [
    "For some reason when I originally tried to `plot_tree` the arrows were not showing up. Google told me it was an error brought on by python interacting with seaborn so I included an `arrow_patch` to draw my arrows."
   ]
  },
  {
   "cell_type": "code",
   "execution_count": 37,
   "metadata": {},
   "outputs": [
    {
     "data": {
      "text/plain": [
       "['same_area_code',\n",
       " 'subject_Calls pretending to be government, businesses, or family and friends',\n",
       " 'subject_Charities',\n",
       " 'subject_Computer  & technical support',\n",
       " 'subject_Debt collection',\n",
       " 'subject_Dropped call or no message',\n",
       " 'subject_Energy, solar,  & utilities',\n",
       " 'subject_Home improvement  & cleaning',\n",
       " 'subject_Home security  & alarms',\n",
       " 'subject_Lotteries, prizes  & sweepstakes',\n",
       " 'subject_Medical  & prescriptions',\n",
       " 'subject_No Subject Provided',\n",
       " 'subject_Other',\n",
       " 'subject_Reducing your debt (credit cards, mortgage, student loans)',\n",
       " 'subject_Vacation  & timeshares',\n",
       " 'subject_Warranties  & protection plans',\n",
       " 'subject_Work from home  & other ways to make money']"
      ]
     },
     "execution_count": 37,
     "metadata": {},
     "output_type": "execute_result"
    }
   ],
   "source": [
    "list(train_X)"
   ]
  },
  {
   "cell_type": "code",
   "execution_count": 38,
   "metadata": {
    "scrolled": false
   },
   "outputs": [
    {
     "data": {
      "image/png": "[encoded data removed]",
      "text/plain": [
       "<Figure size 1008x720 with 1 Axes>"
      ]
     },
     "metadata": {},
     "output_type": "display_data"
    }
   ],
   "source": [
    "# Visualizing the tree \n",
    "plt.figure(figsize=(14, 10))\n",
    "# Saving the plot_tree as a variable in order to add arrows\n",
    "out = plot_tree(mod_max, filled = True, feature_names = list(train_X), fontsize = 12, class_names = True)\n",
    "\n",
    "# Creating a for loop to add arrows to my decision tree\n",
    "for o in out:\n",
    "    arrow = o.arrow_patch\n",
    "    if arrow is not None:\n",
    "        arrow.set_edgecolor('black')\n",
    "        arrow.set_linewidth(1)"
   ]
  },
  {
   "cell_type": "code",
   "execution_count": 39,
   "metadata": {},
   "outputs": [
    {
     "data": {
      "text/html": [
       "<div>\n",
       "<style scoped>\n",
       "    .dataframe tbody tr th:only-of-type {\n",
       "        vertical-align: middle;\n",
       "    }\n",
       "\n",
       "    .dataframe tbody tr th {\n",
       "        vertical-align: top;\n",
       "    }\n",
       "\n",
       "    .dataframe thead th {\n",
       "        text-align: right;\n",
       "    }\n",
       "</style>\n",
       "<table border=\"1\" class=\"dataframe\">\n",
       "  <thead>\n",
       "    <tr style=\"text-align: right;\">\n",
       "      <th></th>\n",
       "      <th>Feature</th>\n",
       "      <th>Importance</th>\n",
       "    </tr>\n",
       "  </thead>\n",
       "  <tbody>\n",
       "    <tr>\n",
       "      <th>0</th>\n",
       "      <td>same_area_code</td>\n",
       "      <td>0.028885</td>\n",
       "    </tr>\n",
       "    <tr>\n",
       "      <th>1</th>\n",
       "      <td>subject_Calls pretending to be government, bus...</td>\n",
       "      <td>0.000000</td>\n",
       "    </tr>\n",
       "    <tr>\n",
       "      <th>2</th>\n",
       "      <td>subject_Charities</td>\n",
       "      <td>0.000000</td>\n",
       "    </tr>\n",
       "    <tr>\n",
       "      <th>3</th>\n",
       "      <td>subject_Computer  &amp; technical support</td>\n",
       "      <td>0.000000</td>\n",
       "    </tr>\n",
       "    <tr>\n",
       "      <th>4</th>\n",
       "      <td>subject_Debt collection</td>\n",
       "      <td>0.000000</td>\n",
       "    </tr>\n",
       "    <tr>\n",
       "      <th>5</th>\n",
       "      <td>subject_Dropped call or no message</td>\n",
       "      <td>0.000000</td>\n",
       "    </tr>\n",
       "    <tr>\n",
       "      <th>6</th>\n",
       "      <td>subject_Energy, solar,  &amp; utilities</td>\n",
       "      <td>0.000000</td>\n",
       "    </tr>\n",
       "    <tr>\n",
       "      <th>7</th>\n",
       "      <td>subject_Home improvement  &amp; cleaning</td>\n",
       "      <td>0.108750</td>\n",
       "    </tr>\n",
       "    <tr>\n",
       "      <th>8</th>\n",
       "      <td>subject_Home security  &amp; alarms</td>\n",
       "      <td>0.000000</td>\n",
       "    </tr>\n",
       "    <tr>\n",
       "      <th>9</th>\n",
       "      <td>subject_Lotteries, prizes  &amp; sweepstakes</td>\n",
       "      <td>0.000000</td>\n",
       "    </tr>\n",
       "    <tr>\n",
       "      <th>10</th>\n",
       "      <td>subject_Medical  &amp; prescriptions</td>\n",
       "      <td>0.000000</td>\n",
       "    </tr>\n",
       "    <tr>\n",
       "      <th>11</th>\n",
       "      <td>subject_No Subject Provided</td>\n",
       "      <td>0.000000</td>\n",
       "    </tr>\n",
       "    <tr>\n",
       "      <th>12</th>\n",
       "      <td>subject_Other</td>\n",
       "      <td>0.000000</td>\n",
       "    </tr>\n",
       "    <tr>\n",
       "      <th>13</th>\n",
       "      <td>subject_Reducing your debt (credit cards, mort...</td>\n",
       "      <td>0.161734</td>\n",
       "    </tr>\n",
       "    <tr>\n",
       "      <th>14</th>\n",
       "      <td>subject_Vacation  &amp; timeshares</td>\n",
       "      <td>0.000000</td>\n",
       "    </tr>\n",
       "    <tr>\n",
       "      <th>15</th>\n",
       "      <td>subject_Warranties  &amp; protection plans</td>\n",
       "      <td>0.700631</td>\n",
       "    </tr>\n",
       "    <tr>\n",
       "      <th>16</th>\n",
       "      <td>subject_Work from home  &amp; other ways to make m...</td>\n",
       "      <td>0.000000</td>\n",
       "    </tr>\n",
       "  </tbody>\n",
       "</table>\n",
       "</div>"
      ],
      "text/plain": [
       "                                              Feature  Importance\n",
       "0                                      same_area_code    0.028885\n",
       "1   subject_Calls pretending to be government, bus...    0.000000\n",
       "2                                   subject_Charities    0.000000\n",
       "3               subject_Computer  & technical support    0.000000\n",
       "4                             subject_Debt collection    0.000000\n",
       "5                  subject_Dropped call or no message    0.000000\n",
       "6                 subject_Energy, solar,  & utilities    0.000000\n",
       "7                subject_Home improvement  & cleaning    0.108750\n",
       "8                     subject_Home security  & alarms    0.000000\n",
       "9            subject_Lotteries, prizes  & sweepstakes    0.000000\n",
       "10                   subject_Medical  & prescriptions    0.000000\n",
       "11                        subject_No Subject Provided    0.000000\n",
       "12                                      subject_Other    0.000000\n",
       "13  subject_Reducing your debt (credit cards, mort...    0.161734\n",
       "14                     subject_Vacation  & timeshares    0.000000\n",
       "15             subject_Warranties  & protection plans    0.700631\n",
       "16  subject_Work from home  & other ways to make m...    0.000000"
      ]
     },
     "execution_count": 39,
     "metadata": {},
     "output_type": "execute_result"
    }
   ],
   "source": [
    "# Calculating feature importance\n",
    "pd.DataFrame({'Feature': test_X.columns, 'Importance': mod_max.feature_importances_})"
   ]
  },
  {
   "cell_type": "markdown",
   "metadata": {},
   "source": [
    "* The root of this tree contains 57924 observations of the *subject_Warranties  & protection plans <= 0.5* variable meaning that it is the the largest value amongst all other independent variables.\n",
    "  * Given that we are dealing with all binary variables, if the variable is `<= 0.5` this can be interpreted to mean `== 0`.\n",
    "* Given that our validation curve stated that the ideal `max_depth` is 3, the decision tree was pruned/preprocessed to that depth.\n",
    "* In the above model, *subject_Warranties  & protection plans* has the highest feature importance weight."
   ]
  }
 ],
 "metadata": {
  "kernelspec": {
   "display_name": "Python 3",
   "language": "python",
   "name": "python3"
  },
  "language_info": {
   "codemirror_mode": {
    "name": "ipython",
    "version": 3
   },
   "file_extension": ".py",
   "mimetype": "text/x-python",
   "name": "python",
   "nbconvert_exporter": "python",
   "pygments_lexer": "ipython3",
   "version": "3.8.5"
  }
 },
 "nbformat": 4,
 "nbformat_minor": 4
}
