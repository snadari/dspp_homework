{
 "cells": [
  {
   "cell_type": "markdown",
   "metadata": {},
   "source": [
    "# Problem Set #2\n",
    "## Name: Sahithi Adari\n",
    "### Date: 02/24/2021"
   ]
  },
  {
   "cell_type": "code",
   "execution_count": 1,
   "metadata": {},
   "outputs": [],
   "source": [
    "import pandas as pd\n",
    "import math\n",
    "from statsmodels.stats.outliers_influence import variance_inflation_factor # Calculating VIF\n",
    "from sklearn.model_selection import cross_val_score, validation_curve, train_test_split\n",
    "from sklearn.linear_model import LinearRegression, LogisticRegression, Ridge, Lasso\n",
    "from sklearn.preprocessing import StandardScaler"
   ]
  },
  {
   "cell_type": "markdown",
   "metadata": {},
   "source": [
    "## Part 1"
   ]
  },
  {
   "cell_type": "markdown",
   "metadata": {},
   "source": [
    "### Question 1"
   ]
  },
  {
   "cell_type": "code",
   "execution_count": 2,
   "metadata": {},
   "outputs": [],
   "source": [
    "# The density function of X for an observeration that belongs to the 'yes' class\n",
    "yes = (1 / (math.sqrt(2*math.pi*36))) * math.exp(-(1/2) * ((4-10)**2) /36)"
   ]
  },
  {
   "cell_type": "code",
   "execution_count": 3,
   "metadata": {},
   "outputs": [],
   "source": [
    "# The density function of X for an observeration that belongs to the 'no' class\n",
    "no = (1 / (math.sqrt(2*math.pi*36))) * math.exp(-(1/2) * ((4-0)**2) /36)"
   ]
  },
  {
   "cell_type": "code",
   "execution_count": 4,
   "metadata": {},
   "outputs": [
    {
     "data": {
      "text/plain": [
       "0.7518524532975261"
      ]
     },
     "execution_count": 4,
     "metadata": {},
     "output_type": "execute_result"
    }
   ],
   "source": [
    "# Plugging in the above values into Bayes' Theorem to determine the overall probability\n",
    "bayes = (0.8 * yes) / (0.8 * yes + 0.2 * no)\n",
    "\n",
    "# Outputting the results\n",
    "bayes"
   ]
  },
  {
   "cell_type": "markdown",
   "metadata": {},
   "source": [
    "The probability that a company will issue dividends this year given that its percentage profit was $X = 4$ last year is $75.19$%."
   ]
  },
  {
   "cell_type": "markdown",
   "metadata": {},
   "source": [
    "### Question 2"
   ]
  },
  {
   "cell_type": "markdown",
   "metadata": {},
   "source": [
    "#### Part A"
   ]
  },
  {
   "cell_type": "markdown",
   "metadata": {},
   "source": [
    "If there are no computational limitations then best subset selection will have the smallest training RSS. This is beceause, best subset selection iterates through $2^k$ models that involve subsets of *k* predictors."
   ]
  },
  {
   "cell_type": "markdown",
   "metadata": {},
   "source": [
    "#### Part B"
   ]
  },
  {
   "cell_type": "markdown",
   "metadata": {},
   "source": [
    "Although a low training error doesn't guarantee a low test error, best subset selection is the most likely, once again, to give you the lowest test RSS given the large search space."
   ]
  },
  {
   "cell_type": "markdown",
   "metadata": {},
   "source": [
    "#### Part C"
   ]
  },
  {
   "cell_type": "markdown",
   "metadata": {},
   "source": [
    "* True - Forward stepwise selection begins with a null model and add predictors to the model, one at a time, until all predictors are included and chooses the best one. Therefore, it naturally follows, that the *k*-variable model is a subset of the $(k + 1)$ model.\n",
    "* True - Backwards stepwise selection begins with the full model and removes predictions to the model, one at a time, until it reaches the null model and chooses the best one. Therefore, much like the above question, it naturally follows that *k*-variable model is a subset of the $(k + 1)$ model as well.\n",
    "* False - There is no link between backwards stepwise and forward stepwise.\n",
    "* False - There is no link between forward stepwise and backwards stepwise.\n",
    "* False - Best subset selection selects the best number of predictors for the *k*-variable model and the $(k+1)$-variable model respectively by running $2^k$ models. There is no overlap between the two models as the inclusion of an additional variable results in a search space that has doubled from the previous search space."
   ]
  },
  {
   "cell_type": "markdown",
   "metadata": {},
   "source": [
    "## Part 2"
   ]
  },
  {
   "cell_type": "code",
   "execution_count": 5,
   "metadata": {},
   "outputs": [],
   "source": [
    "# Reading in the the CSV file\n",
    "airbnb = pd.read_csv('nyc_airbnb_listings.csv')"
   ]
  },
  {
   "cell_type": "code",
   "execution_count": 6,
   "metadata": {},
   "outputs": [
    {
     "data": {
      "text/html": [
       "<div>\n",
       "<style scoped>\n",
       "    .dataframe tbody tr th:only-of-type {\n",
       "        vertical-align: middle;\n",
       "    }\n",
       "\n",
       "    .dataframe tbody tr th {\n",
       "        vertical-align: top;\n",
       "    }\n",
       "\n",
       "    .dataframe thead th {\n",
       "        text-align: right;\n",
       "    }\n",
       "</style>\n",
       "<table border=\"1\" class=\"dataframe\">\n",
       "  <thead>\n",
       "    <tr style=\"text-align: right;\">\n",
       "      <th></th>\n",
       "      <th>listing_id</th>\n",
       "      <th>host_id</th>\n",
       "      <th>host_response_rate</th>\n",
       "      <th>host_acceptance_rate</th>\n",
       "      <th>host_is_superhost</th>\n",
       "      <th>host_listings_count</th>\n",
       "      <th>host_total_listings_count</th>\n",
       "      <th>host_has_profile_pic</th>\n",
       "      <th>host_identity_verified</th>\n",
       "      <th>neighbourhood_group</th>\n",
       "      <th>...</th>\n",
       "      <th>number_of_reviews_ltm</th>\n",
       "      <th>review_scores_rating</th>\n",
       "      <th>review_scores_accuracy</th>\n",
       "      <th>review_scores_cleanliness</th>\n",
       "      <th>review_scores_checkin</th>\n",
       "      <th>review_scores_communication</th>\n",
       "      <th>review_scores_location</th>\n",
       "      <th>review_scores_value</th>\n",
       "      <th>instant_bookable</th>\n",
       "      <th>reviews_per_month</th>\n",
       "    </tr>\n",
       "  </thead>\n",
       "  <tbody>\n",
       "    <tr>\n",
       "      <th>0</th>\n",
       "      <td>2060</td>\n",
       "      <td>2259</td>\n",
       "      <td>0.22</td>\n",
       "      <td>0.50</td>\n",
       "      <td>0.0</td>\n",
       "      <td>0.0</td>\n",
       "      <td>0.0</td>\n",
       "      <td>1.0</td>\n",
       "      <td>0.0</td>\n",
       "      <td>Manhattan</td>\n",
       "      <td>...</td>\n",
       "      <td>0</td>\n",
       "      <td>80.0</td>\n",
       "      <td>NaN</td>\n",
       "      <td>NaN</td>\n",
       "      <td>NaN</td>\n",
       "      <td>NaN</td>\n",
       "      <td>NaN</td>\n",
       "      <td>NaN</td>\n",
       "      <td>0</td>\n",
       "      <td>0.01</td>\n",
       "    </tr>\n",
       "    <tr>\n",
       "      <th>1</th>\n",
       "      <td>2595</td>\n",
       "      <td>2845</td>\n",
       "      <td>0.87</td>\n",
       "      <td>0.38</td>\n",
       "      <td>0.0</td>\n",
       "      <td>6.0</td>\n",
       "      <td>6.0</td>\n",
       "      <td>1.0</td>\n",
       "      <td>1.0</td>\n",
       "      <td>Manhattan</td>\n",
       "      <td>...</td>\n",
       "      <td>5</td>\n",
       "      <td>94.0</td>\n",
       "      <td>9.0</td>\n",
       "      <td>9.0</td>\n",
       "      <td>10.0</td>\n",
       "      <td>10.0</td>\n",
       "      <td>10.0</td>\n",
       "      <td>9.0</td>\n",
       "      <td>0</td>\n",
       "      <td>0.38</td>\n",
       "    </tr>\n",
       "    <tr>\n",
       "      <th>2</th>\n",
       "      <td>3831</td>\n",
       "      <td>4869</td>\n",
       "      <td>0.83</td>\n",
       "      <td>0.96</td>\n",
       "      <td>0.0</td>\n",
       "      <td>1.0</td>\n",
       "      <td>1.0</td>\n",
       "      <td>1.0</td>\n",
       "      <td>1.0</td>\n",
       "      <td>Brooklyn</td>\n",
       "      <td>...</td>\n",
       "      <td>69</td>\n",
       "      <td>90.0</td>\n",
       "      <td>9.0</td>\n",
       "      <td>9.0</td>\n",
       "      <td>10.0</td>\n",
       "      <td>10.0</td>\n",
       "      <td>10.0</td>\n",
       "      <td>8.0</td>\n",
       "      <td>0</td>\n",
       "      <td>4.71</td>\n",
       "    </tr>\n",
       "    <tr>\n",
       "      <th>3</th>\n",
       "      <td>5099</td>\n",
       "      <td>7322</td>\n",
       "      <td>NaN</td>\n",
       "      <td>0.71</td>\n",
       "      <td>0.0</td>\n",
       "      <td>1.0</td>\n",
       "      <td>1.0</td>\n",
       "      <td>1.0</td>\n",
       "      <td>0.0</td>\n",
       "      <td>Manhattan</td>\n",
       "      <td>...</td>\n",
       "      <td>8</td>\n",
       "      <td>90.0</td>\n",
       "      <td>10.0</td>\n",
       "      <td>9.0</td>\n",
       "      <td>10.0</td>\n",
       "      <td>10.0</td>\n",
       "      <td>10.0</td>\n",
       "      <td>9.0</td>\n",
       "      <td>0</td>\n",
       "      <td>0.59</td>\n",
       "    </tr>\n",
       "    <tr>\n",
       "      <th>4</th>\n",
       "      <td>5114</td>\n",
       "      <td>7345</td>\n",
       "      <td>0.50</td>\n",
       "      <td>NaN</td>\n",
       "      <td>0.0</td>\n",
       "      <td>3.0</td>\n",
       "      <td>3.0</td>\n",
       "      <td>1.0</td>\n",
       "      <td>0.0</td>\n",
       "      <td>Manhattan</td>\n",
       "      <td>...</td>\n",
       "      <td>0</td>\n",
       "      <td>94.0</td>\n",
       "      <td>10.0</td>\n",
       "      <td>10.0</td>\n",
       "      <td>10.0</td>\n",
       "      <td>10.0</td>\n",
       "      <td>10.0</td>\n",
       "      <td>10.0</td>\n",
       "      <td>0</td>\n",
       "      <td>0.56</td>\n",
       "    </tr>\n",
       "    <tr>\n",
       "      <th>...</th>\n",
       "      <td>...</td>\n",
       "      <td>...</td>\n",
       "      <td>...</td>\n",
       "      <td>...</td>\n",
       "      <td>...</td>\n",
       "      <td>...</td>\n",
       "      <td>...</td>\n",
       "      <td>...</td>\n",
       "      <td>...</td>\n",
       "      <td>...</td>\n",
       "      <td>...</td>\n",
       "      <td>...</td>\n",
       "      <td>...</td>\n",
       "      <td>...</td>\n",
       "      <td>...</td>\n",
       "      <td>...</td>\n",
       "      <td>...</td>\n",
       "      <td>...</td>\n",
       "      <td>...</td>\n",
       "      <td>...</td>\n",
       "      <td>...</td>\n",
       "    </tr>\n",
       "    <tr>\n",
       "      <th>50791</th>\n",
       "      <td>42890680</td>\n",
       "      <td>258247777</td>\n",
       "      <td>1.00</td>\n",
       "      <td>1.00</td>\n",
       "      <td>0.0</td>\n",
       "      <td>5.0</td>\n",
       "      <td>5.0</td>\n",
       "      <td>1.0</td>\n",
       "      <td>0.0</td>\n",
       "      <td>Manhattan</td>\n",
       "      <td>...</td>\n",
       "      <td>0</td>\n",
       "      <td>NaN</td>\n",
       "      <td>NaN</td>\n",
       "      <td>NaN</td>\n",
       "      <td>NaN</td>\n",
       "      <td>NaN</td>\n",
       "      <td>NaN</td>\n",
       "      <td>NaN</td>\n",
       "      <td>1</td>\n",
       "      <td>NaN</td>\n",
       "    </tr>\n",
       "    <tr>\n",
       "      <th>50792</th>\n",
       "      <td>42890730</td>\n",
       "      <td>79065824</td>\n",
       "      <td>1.00</td>\n",
       "      <td>0.99</td>\n",
       "      <td>0.0</td>\n",
       "      <td>21.0</td>\n",
       "      <td>21.0</td>\n",
       "      <td>1.0</td>\n",
       "      <td>1.0</td>\n",
       "      <td>Manhattan</td>\n",
       "      <td>...</td>\n",
       "      <td>0</td>\n",
       "      <td>NaN</td>\n",
       "      <td>NaN</td>\n",
       "      <td>NaN</td>\n",
       "      <td>NaN</td>\n",
       "      <td>NaN</td>\n",
       "      <td>NaN</td>\n",
       "      <td>NaN</td>\n",
       "      <td>1</td>\n",
       "      <td>NaN</td>\n",
       "    </tr>\n",
       "    <tr>\n",
       "      <th>50793</th>\n",
       "      <td>42891018</td>\n",
       "      <td>11849741</td>\n",
       "      <td>NaN</td>\n",
       "      <td>NaN</td>\n",
       "      <td>0.0</td>\n",
       "      <td>1.0</td>\n",
       "      <td>1.0</td>\n",
       "      <td>1.0</td>\n",
       "      <td>0.0</td>\n",
       "      <td>Manhattan</td>\n",
       "      <td>...</td>\n",
       "      <td>0</td>\n",
       "      <td>NaN</td>\n",
       "      <td>NaN</td>\n",
       "      <td>NaN</td>\n",
       "      <td>NaN</td>\n",
       "      <td>NaN</td>\n",
       "      <td>NaN</td>\n",
       "      <td>NaN</td>\n",
       "      <td>1</td>\n",
       "      <td>NaN</td>\n",
       "    </tr>\n",
       "    <tr>\n",
       "      <th>50794</th>\n",
       "      <td>42891637</td>\n",
       "      <td>209711461</td>\n",
       "      <td>NaN</td>\n",
       "      <td>1.00</td>\n",
       "      <td>0.0</td>\n",
       "      <td>2.0</td>\n",
       "      <td>2.0</td>\n",
       "      <td>1.0</td>\n",
       "      <td>0.0</td>\n",
       "      <td>Brooklyn</td>\n",
       "      <td>...</td>\n",
       "      <td>0</td>\n",
       "      <td>NaN</td>\n",
       "      <td>NaN</td>\n",
       "      <td>NaN</td>\n",
       "      <td>NaN</td>\n",
       "      <td>NaN</td>\n",
       "      <td>NaN</td>\n",
       "      <td>NaN</td>\n",
       "      <td>0</td>\n",
       "      <td>NaN</td>\n",
       "    </tr>\n",
       "    <tr>\n",
       "      <th>50795</th>\n",
       "      <td>42892717</td>\n",
       "      <td>263502980</td>\n",
       "      <td>0.00</td>\n",
       "      <td>1.00</td>\n",
       "      <td>0.0</td>\n",
       "      <td>1.0</td>\n",
       "      <td>1.0</td>\n",
       "      <td>1.0</td>\n",
       "      <td>0.0</td>\n",
       "      <td>Brooklyn</td>\n",
       "      <td>...</td>\n",
       "      <td>0</td>\n",
       "      <td>NaN</td>\n",
       "      <td>NaN</td>\n",
       "      <td>NaN</td>\n",
       "      <td>NaN</td>\n",
       "      <td>NaN</td>\n",
       "      <td>NaN</td>\n",
       "      <td>NaN</td>\n",
       "      <td>0</td>\n",
       "      <td>NaN</td>\n",
       "    </tr>\n",
       "  </tbody>\n",
       "</table>\n",
       "<p>50796 rows × 36 columns</p>\n",
       "</div>"
      ],
      "text/plain": [
       "       listing_id    host_id  host_response_rate  host_acceptance_rate  \\\n",
       "0            2060       2259                0.22                  0.50   \n",
       "1            2595       2845                0.87                  0.38   \n",
       "2            3831       4869                0.83                  0.96   \n",
       "3            5099       7322                 NaN                  0.71   \n",
       "4            5114       7345                0.50                   NaN   \n",
       "...           ...        ...                 ...                   ...   \n",
       "50791    42890680  258247777                1.00                  1.00   \n",
       "50792    42890730   79065824                1.00                  0.99   \n",
       "50793    42891018   11849741                 NaN                   NaN   \n",
       "50794    42891637  209711461                 NaN                  1.00   \n",
       "50795    42892717  263502980                0.00                  1.00   \n",
       "\n",
       "       host_is_superhost  host_listings_count  host_total_listings_count  \\\n",
       "0                    0.0                  0.0                        0.0   \n",
       "1                    0.0                  6.0                        6.0   \n",
       "2                    0.0                  1.0                        1.0   \n",
       "3                    0.0                  1.0                        1.0   \n",
       "4                    0.0                  3.0                        3.0   \n",
       "...                  ...                  ...                        ...   \n",
       "50791                0.0                  5.0                        5.0   \n",
       "50792                0.0                 21.0                       21.0   \n",
       "50793                0.0                  1.0                        1.0   \n",
       "50794                0.0                  2.0                        2.0   \n",
       "50795                0.0                  1.0                        1.0   \n",
       "\n",
       "       host_has_profile_pic  host_identity_verified neighbourhood_group  ...  \\\n",
       "0                       1.0                     0.0           Manhattan  ...   \n",
       "1                       1.0                     1.0           Manhattan  ...   \n",
       "2                       1.0                     1.0            Brooklyn  ...   \n",
       "3                       1.0                     0.0           Manhattan  ...   \n",
       "4                       1.0                     0.0           Manhattan  ...   \n",
       "...                     ...                     ...                 ...  ...   \n",
       "50791                   1.0                     0.0           Manhattan  ...   \n",
       "50792                   1.0                     1.0           Manhattan  ...   \n",
       "50793                   1.0                     0.0           Manhattan  ...   \n",
       "50794                   1.0                     0.0            Brooklyn  ...   \n",
       "50795                   1.0                     0.0            Brooklyn  ...   \n",
       "\n",
       "      number_of_reviews_ltm  review_scores_rating  review_scores_accuracy  \\\n",
       "0                         0                  80.0                     NaN   \n",
       "1                         5                  94.0                     9.0   \n",
       "2                        69                  90.0                     9.0   \n",
       "3                         8                  90.0                    10.0   \n",
       "4                         0                  94.0                    10.0   \n",
       "...                     ...                   ...                     ...   \n",
       "50791                     0                   NaN                     NaN   \n",
       "50792                     0                   NaN                     NaN   \n",
       "50793                     0                   NaN                     NaN   \n",
       "50794                     0                   NaN                     NaN   \n",
       "50795                     0                   NaN                     NaN   \n",
       "\n",
       "       review_scores_cleanliness  review_scores_checkin  \\\n",
       "0                            NaN                    NaN   \n",
       "1                            9.0                   10.0   \n",
       "2                            9.0                   10.0   \n",
       "3                            9.0                   10.0   \n",
       "4                           10.0                   10.0   \n",
       "...                          ...                    ...   \n",
       "50791                        NaN                    NaN   \n",
       "50792                        NaN                    NaN   \n",
       "50793                        NaN                    NaN   \n",
       "50794                        NaN                    NaN   \n",
       "50795                        NaN                    NaN   \n",
       "\n",
       "       review_scores_communication  review_scores_location  \\\n",
       "0                              NaN                     NaN   \n",
       "1                             10.0                    10.0   \n",
       "2                             10.0                    10.0   \n",
       "3                             10.0                    10.0   \n",
       "4                             10.0                    10.0   \n",
       "...                            ...                     ...   \n",
       "50791                          NaN                     NaN   \n",
       "50792                          NaN                     NaN   \n",
       "50793                          NaN                     NaN   \n",
       "50794                          NaN                     NaN   \n",
       "50795                          NaN                     NaN   \n",
       "\n",
       "       review_scores_value  instant_bookable  reviews_per_month  \n",
       "0                      NaN                 0               0.01  \n",
       "1                      9.0                 0               0.38  \n",
       "2                      8.0                 0               4.71  \n",
       "3                      9.0                 0               0.59  \n",
       "4                     10.0                 0               0.56  \n",
       "...                    ...               ...                ...  \n",
       "50791                  NaN                 1                NaN  \n",
       "50792                  NaN                 1                NaN  \n",
       "50793                  NaN                 1                NaN  \n",
       "50794                  NaN                 0                NaN  \n",
       "50795                  NaN                 0                NaN  \n",
       "\n",
       "[50796 rows x 36 columns]"
      ]
     },
     "execution_count": 6,
     "metadata": {},
     "output_type": "execute_result"
    }
   ],
   "source": [
    "# Viewing the data as a dataframe \n",
    "airbnb"
   ]
  },
  {
   "cell_type": "markdown",
   "metadata": {},
   "source": [
    "### Problem 1"
   ]
  },
  {
   "cell_type": "markdown",
   "metadata": {},
   "source": [
    "#### Attribute Types"
   ]
  },
  {
   "cell_type": "code",
   "execution_count": 7,
   "metadata": {},
   "outputs": [
    {
     "data": {
      "text/plain": [
       "listing_id                       int64\n",
       "host_id                          int64\n",
       "host_response_rate             float64\n",
       "host_acceptance_rate           float64\n",
       "host_is_superhost              float64\n",
       "host_listings_count            float64\n",
       "host_total_listings_count      float64\n",
       "host_has_profile_pic           float64\n",
       "host_identity_verified         float64\n",
       "neighbourhood_group             object\n",
       "room_type                       object\n",
       "accommodates                     int64\n",
       "bathrooms                      float64\n",
       "bedrooms                       float64\n",
       "beds                           float64\n",
       "price                            int64\n",
       "security_deposit               float64\n",
       "cleaning_fee                   float64\n",
       "guests_included                  int64\n",
       "extra_people                     int64\n",
       "has_availability                 int64\n",
       "availability_30                  int64\n",
       "availability_60                  int64\n",
       "availability_90                  int64\n",
       "availability_365                 int64\n",
       "number_of_reviews                int64\n",
       "number_of_reviews_ltm            int64\n",
       "review_scores_rating           float64\n",
       "review_scores_accuracy         float64\n",
       "review_scores_cleanliness      float64\n",
       "review_scores_checkin          float64\n",
       "review_scores_communication    float64\n",
       "review_scores_location         float64\n",
       "review_scores_value            float64\n",
       "instant_bookable                 int64\n",
       "reviews_per_month              float64\n",
       "dtype: object"
      ]
     },
     "execution_count": 7,
     "metadata": {},
     "output_type": "execute_result"
    }
   ],
   "source": [
    "# Listing the datatypes of each attribute\n",
    "airbnb.dtypes"
   ]
  },
  {
   "cell_type": "markdown",
   "metadata": {},
   "source": [
    "Of what I can see of the dataset it appears that the majority of the attributes are a quantitative, continuous, ratio or interval. There are some obvious and notable exceptions to this by way of *listing_id*, *host_id* and *neighbourhood_group* (quantitative, discrete, nominal); *instant_bookable*, *host_is_superhost*, *host_has_profile_pic*, *host_identity_verified*(quantitative, discrete, binary); etc. It is also interesting to note that *neighbourhood_type* and *room_type* are objects which mean they likely have a non-numeric value."
   ]
  },
  {
   "cell_type": "markdown",
   "metadata": {},
   "source": [
    "#### Resolution and possible alternative units of analysis"
   ]
  },
  {
   "cell_type": "markdown",
   "metadata": {},
   "source": [
    "The resolution is at an individual NYC Airbnb listing in March 2020. A secondary units of analysis could also be by host (each row representing the number of units in the NYC areas by host)."
   ]
  },
  {
   "cell_type": "markdown",
   "metadata": {},
   "source": [
    "#### Dimensionality"
   ]
  },
  {
   "cell_type": "code",
   "execution_count": 8,
   "metadata": {},
   "outputs": [
    {
     "data": {
      "text/plain": [
       "36"
      ]
     },
     "execution_count": 8,
     "metadata": {},
     "output_type": "execute_result"
    }
   ],
   "source": [
    "# Counting the number of attributes (columns)\n",
    "len(airbnb.columns)"
   ]
  },
  {
   "cell_type": "code",
   "execution_count": 9,
   "metadata": {},
   "outputs": [
    {
     "data": {
      "text/plain": [
       "50796"
      ]
     },
     "execution_count": 9,
     "metadata": {},
     "output_type": "execute_result"
    }
   ],
   "source": [
    "# Counting the number of oberservations\n",
    "len(airbnb)"
   ]
  },
  {
   "cell_type": "markdown",
   "metadata": {},
   "source": [
    "There are 36 attributes and 50796 observations."
   ]
  },
  {
   "cell_type": "markdown",
   "metadata": {},
   "source": [
    "#### Missing Values"
   ]
  },
  {
   "cell_type": "code",
   "execution_count": 10,
   "metadata": {},
   "outputs": [
    {
     "data": {
      "text/plain": [
       "listing_id                         0\n",
       "host_id                            0\n",
       "host_response_rate             19006\n",
       "host_acceptance_rate           14015\n",
       "host_is_superhost                  5\n",
       "host_listings_count                5\n",
       "host_total_listings_count          5\n",
       "host_has_profile_pic               5\n",
       "host_identity_verified             5\n",
       "neighbourhood_group                0\n",
       "room_type                          0\n",
       "accommodates                       0\n",
       "bathrooms                         54\n",
       "bedrooms                          77\n",
       "beds                             482\n",
       "price                              0\n",
       "security_deposit               17325\n",
       "cleaning_fee                   10528\n",
       "guests_included                    0\n",
       "extra_people                       0\n",
       "has_availability                   0\n",
       "availability_30                    0\n",
       "availability_60                    0\n",
       "availability_90                    0\n",
       "availability_365                   0\n",
       "number_of_reviews                  0\n",
       "number_of_reviews_ltm              0\n",
       "review_scores_rating           11431\n",
       "review_scores_accuracy         11466\n",
       "review_scores_cleanliness      11452\n",
       "review_scores_checkin          11479\n",
       "review_scores_communication    11463\n",
       "review_scores_location         11482\n",
       "review_scores_value            11482\n",
       "instant_bookable                   0\n",
       "reviews_per_month              10453\n",
       "dtype: int64"
      ]
     },
     "execution_count": 10,
     "metadata": {},
     "output_type": "execute_result"
    }
   ],
   "source": [
    "# Determining the number of missing values per attribute\n",
    "airbnb.isna().sum()"
   ]
  },
  {
   "cell_type": "markdown",
   "metadata": {},
   "source": [
    "As the above code shows us there are a wide range of attributes with missing values with the majority of them clustering around the review score section. This makes sense as large and populous cities are more likely to have new, unreviewed Airbnb listings pop up on a daily basis. There is also the consideration to make regarding the timing of this data. Since this data was scraped in March 2020 (when COVID lockdown measures were just starting to take place in NYC) I wonder how many of these new, unreviewed listings were for people moving out of the city and trying to sublease their apartments."
   ]
  },
  {
   "cell_type": "markdown",
   "metadata": {},
   "source": [
    "#### Potential multicollinearity"
   ]
  },
  {
   "cell_type": "markdown",
   "metadata": {},
   "source": [
    "In order to check for multicollinearity I decide to calculate the VIF of the data by utilizing the `variance_infation_package` from `statsmodels`.  This process did involve some amount of preprocessing and as such, I created a new dataframe."
   ]
  },
  {
   "cell_type": "code",
   "execution_count": 11,
   "metadata": {},
   "outputs": [],
   "source": [
    "# Creating a new dataframe for checking multicollinearity\n",
    "MC = airbnb \n",
    "\n",
    "# Dropping the 'object' attributes from measurement \n",
    "MC = MC.drop(['neighbourhood_group', 'room_type'], axis = 1)\n",
    "\n",
    "# Removing all NA values from measurement \n",
    "MC = MC.dropna()"
   ]
  },
  {
   "cell_type": "code",
   "execution_count": 12,
   "metadata": {},
   "outputs": [
    {
     "name": "stderr",
     "output_type": "stream",
     "text": [
      "/Users/endor/Library/Python/3.8/lib/python/site-packages/statsmodels/stats/outliers_influence.py:193: RuntimeWarning: divide by zero encountered in double_scalars\n",
      "  vif = 1. / (1. - r_squared_i)\n"
     ]
    },
    {
     "name": "stdout",
     "output_type": "stream",
     "text": [
      "                        feature         VIF\n",
      "0                    listing_id    2.733295\n",
      "1                       host_id    1.980093\n",
      "2            host_response_rate    1.183979\n",
      "3          host_acceptance_rate    1.602412\n",
      "4             host_is_superhost    1.268003\n",
      "5           host_listings_count         inf\n",
      "6     host_total_listings_count         inf\n",
      "7          host_has_profile_pic    1.009585\n",
      "8        host_identity_verified    1.370925\n",
      "9                  accommodates    3.571461\n",
      "10                    bathrooms    1.322428\n",
      "11                     bedrooms    2.419052\n",
      "12                         beds    2.837802\n",
      "13                        price    1.136262\n",
      "14             security_deposit    1.232824\n",
      "15                 cleaning_fee    1.738215\n",
      "16              guests_included    1.904379\n",
      "17                 extra_people    1.119206\n",
      "18             has_availability  791.659218\n",
      "19              availability_30    7.634408\n",
      "20              availability_60   33.579834\n",
      "21              availability_90   19.903804\n",
      "22             availability_365    1.760023\n",
      "23            number_of_reviews    3.308495\n",
      "24        number_of_reviews_ltm    5.171617\n",
      "25         review_scores_rating    4.721422\n",
      "26       review_scores_accuracy    2.928389\n",
      "27    review_scores_cleanliness    2.159044\n",
      "28        review_scores_checkin    1.965810\n",
      "29  review_scores_communication    2.457296\n",
      "30       review_scores_location    1.359412\n",
      "31          review_scores_value    2.954812\n",
      "32             instant_bookable    1.267220\n",
      "33            reviews_per_month    4.660362\n"
     ]
    }
   ],
   "source": [
    "# VIF dataframe \n",
    "vif_data = pd.DataFrame() \n",
    "vif_data[\"feature\"] = MC.columns \n",
    "  \n",
    "# Calculating VIF for each feature \n",
    "vif_data[\"VIF\"] = [variance_inflation_factor(MC.values, i) \n",
    "                          for i in range(len(MC.columns))] \n",
    "  \n",
    "print(vif_data)"
   ]
  },
  {
   "cell_type": "markdown",
   "metadata": {},
   "source": [
    "According to the above data, the section surrounding availability is highly multicollinear and this makes sense as properties that have availability for the next 30, 60, or 90 days, must have availability today/at the time of measurement. You cannot have *availability_30*, *availability_60* or *availability_90* without *has_availability*."
   ]
  },
  {
   "cell_type": "markdown",
   "metadata": {},
   "source": [
    "### Question 2"
   ]
  },
  {
   "cell_type": "code",
   "execution_count": 13,
   "metadata": {},
   "outputs": [],
   "source": [
    "# Removing all NA values from the dataset and resetting the index \n",
    "airbnb = airbnb.dropna().reset_index(drop = True)\n",
    "\n",
    "# Converting the categorical variables into dummy variables\n",
    "airbnb = pd.get_dummies(airbnb)"
   ]
  },
  {
   "cell_type": "code",
   "execution_count": 14,
   "metadata": {},
   "outputs": [],
   "source": [
    "# Splitting the data in the test and training\n",
    "y = airbnb['price']\n",
    "X = airbnb.drop('price', axis=1)\n",
    "Xtrain, Xtest, ytrain, ytest = train_test_split(X, y, test_size = 0.3, random_state = 10)"
   ]
  },
  {
   "cell_type": "markdown",
   "metadata": {},
   "source": [
    "### Question 3"
   ]
  },
  {
   "cell_type": "code",
   "execution_count": 15,
   "metadata": {},
   "outputs": [],
   "source": [
    "# Creating 'r2_scores' function that outputs the r^2 score as well as the adjusted r^2 scores\n",
    "def r2_scores(y_true, y_pred, p):\n",
    "    '''\n",
    "    This function takes the true values, predicted values, as well as the number of predictors in order calucluate the\n",
    "     r^2 score as well as the adjusted r^2 scores.\n",
    "    \n",
    "    Args:\n",
    "        y_true (numeric, array): A numeric value or array of true y values\n",
    "        y_pred (numeric, array): A numeric value or array of the predicted y values \n",
    "        p (numeric): number of predictors\n",
    "\n",
    "    Returns:\n",
    "        (r2, adjust_r2) (tuple): A tuple of the r^2 score and the adjusted r^2 scores\n",
    "    '''\n",
    "    RSS = sum((y_true - y_pred) ** 2)\n",
    "    avg = sum(y_true)/len(y_true) # Mean\n",
    "    TSS = sum((y_true - avg) ** 2)\n",
    "    r2 = 1 - (RSS/TSS)\n",
    "    adjust_r2 = 1 - ((RSS / (20114 - p))/(TSS/20114))\n",
    "    return (r2, adjust_r2)"
   ]
  },
  {
   "cell_type": "markdown",
   "metadata": {},
   "source": [
    "### Question 4"
   ]
  },
  {
   "cell_type": "code",
   "execution_count": 16,
   "metadata": {},
   "outputs": [],
   "source": [
    "# Fitting the model with training data (linear regression)\n",
    "lm = LinearRegression()\n",
    "lin_reg = lm.fit(Xtrain, ytrain)"
   ]
  },
  {
   "cell_type": "code",
   "execution_count": 17,
   "metadata": {},
   "outputs": [],
   "source": [
    "# Standardizing features to eliminate issues of scaling\n",
    "scaler = StandardScaler()\n",
    "XSC = pd.DataFrame(scaler.fit_transform(X), columns = X.columns)"
   ]
  },
  {
   "cell_type": "code",
   "execution_count": 18,
   "metadata": {},
   "outputs": [],
   "source": [
    "#Resplitting the data given the values were scaled\n",
    "XSCtrain, XSCtest, ysctrain, ysctest = train_test_split(XSC, y, test_size = 0.3, random_state = 10)"
   ]
  },
  {
   "cell_type": "code",
   "execution_count": 19,
   "metadata": {},
   "outputs": [],
   "source": [
    "# Fitting the model with training data (LASSO)\n",
    "# Alpha of 0.5\n",
    "lasso = Lasso(alpha = 0.5)\n",
    "lasso_half = lasso.fit(XSCtrain, ysctrain)"
   ]
  },
  {
   "cell_type": "code",
   "execution_count": 20,
   "metadata": {},
   "outputs": [],
   "source": [
    "# Fitting the model with training data (LASSO)\n",
    "# Alpha of 5.0\n",
    "lasso = Lasso(alpha = 5.0)\n",
    "lasso_5 = lasso.fit(XSCtrain, ysctrain)"
   ]
  },
  {
   "cell_type": "markdown",
   "metadata": {},
   "source": [
    "If we look at the documentation for `sklearnit Lasso` function we can see that a default alpha value of 0 is the same as the linear regression model. This is because the alpha is a constant that multiplies the $l_1$ penalty. When we increase the alpha to 0.5, 5, 5.0 etc. we increase the penalty and, thereby, increasing the number of coefficients estimates that exactly equal to 0 provided that the tuning parameter is sufficiently large enough."
   ]
  },
  {
   "cell_type": "markdown",
   "metadata": {},
   "source": [
    "### Question 5"
   ]
  },
  {
   "cell_type": "code",
   "execution_count": 21,
   "metadata": {},
   "outputs": [
    {
     "data": {
      "text/plain": [
       "(0.18370016824862345, 0.18223653671445428)"
      ]
     },
     "execution_count": 21,
     "metadata": {},
     "output_type": "execute_result"
    }
   ],
   "source": [
    "# Generating a prediction for the linear regression \n",
    "lin_reg_pred = lin_reg.predict(Xtest)\n",
    "\n",
    "# Linear Regression r2_scores\n",
    "r2_scores(ytest, lin_reg_pred, 36)"
   ]
  },
  {
   "cell_type": "code",
   "execution_count": 22,
   "metadata": {},
   "outputs": [
    {
     "data": {
      "text/plain": [
       "(0.1861131623711305, 0.18465385735296935)"
      ]
     },
     "execution_count": 22,
     "metadata": {},
     "output_type": "execute_result"
    }
   ],
   "source": [
    "# Generating a prediction for the LASSO with alpha of 0.5\n",
    "lasso_half_pred = lasso_half.predict(XSCtest)\n",
    "\n",
    "# LASSO with alpha of 0.5 r2_scores\n",
    "r2_scores(ysctest, lasso_half_pred, 36)"
   ]
  },
  {
   "cell_type": "code",
   "execution_count": 23,
   "metadata": {},
   "outputs": [
    {
     "data": {
      "text/plain": [
       "(0.19036096753979803, 0.1889092788671929)"
      ]
     },
     "execution_count": 23,
     "metadata": {},
     "output_type": "execute_result"
    }
   ],
   "source": [
    "# Generating a prediction for the LASSO with alpha of 5\n",
    "lasso_5_pred = lasso_5.predict(XSCtest)\n",
    "\n",
    "# LASSO with alpha of 5 r2_scores\n",
    "r2_scores(ysctest, lasso_5_pred, 36)"
   ]
  },
  {
   "cell_type": "markdown",
   "metadata": {},
   "source": [
    "$R^2$ scores per model:\n",
    "* Linear Regression - 0.1837\n",
    "* LASSO $\\alpha$ of 0.5 - 0.1861\n",
    "* LASSO $\\alpha$ of 5 - 0.1904\n",
    "\n",
    "$Adjusted R^2$ scores per model:\n",
    "* Linear Regression - 0.1822\n",
    "* LASSO $\\alpha$ of 0.5 - 0.1847\n",
    "* LASSO $\\alpha$ of 5 - 0.1889\n",
    "\n",
    "What these models are generally telling us is that our prediction model is doing a pretty terrible job regardless of the model being used. Given that the $R^2$ is near 0 across all 3 models this means that the regression did not explain much of the variability in the response. This is further supported by the $Adjusted R^2$ score since that measurement is looking for a large value.\n",
    "\n",
    "As mentioned above, given that an $\\alpha$ of 0 is the linear regression model, it make sense that there is minimal difference between the $R^2$ and $Adjusted R^2$ scores of the linear regression model and the LASSO with an $\\alpha$ of 0.5.\n",
    "\n",
    "Of the three models present the LASSO with an $\\alpha$ of 5 presented the best results indicating that if we increase the $\\alpha$ we're more likely to get a better prediction utilizing only the most important coefficients. On the flip side we risk overfitting the data as we increase the $\\alpha$.\n",
    "\n",
    "It is also important to note that since I did no preprocessing (i.e. removing outliers, rescaling attributes as needed, etc.) which could explain my really low $R^2$ and $Adjusted R^2$ scores."
   ]
  },
  {
   "cell_type": "markdown",
   "metadata": {},
   "source": [
    "### Question 6"
   ]
  },
  {
   "cell_type": "code",
   "execution_count": 24,
   "metadata": {},
   "outputs": [],
   "source": [
    "# Creating a dataframe of the variables and the respective model's coefficients\n",
    "pred_coef = pd.DataFrame({'Variable': X.columns, 'LM Coef': lin_reg.coef_, 'Lasso Coef': lasso_5.coef_})"
   ]
  },
  {
   "cell_type": "code",
   "execution_count": 25,
   "metadata": {},
   "outputs": [
    {
     "data": {
      "text/html": [
       "<div>\n",
       "<style scoped>\n",
       "    .dataframe tbody tr th:only-of-type {\n",
       "        vertical-align: middle;\n",
       "    }\n",
       "\n",
       "    .dataframe tbody tr th {\n",
       "        vertical-align: top;\n",
       "    }\n",
       "\n",
       "    .dataframe thead th {\n",
       "        text-align: right;\n",
       "    }\n",
       "</style>\n",
       "<table border=\"1\" class=\"dataframe\">\n",
       "  <thead>\n",
       "    <tr style=\"text-align: right;\">\n",
       "      <th></th>\n",
       "      <th>Variable</th>\n",
       "      <th>LM Coef</th>\n",
       "      <th>Lasso Coef</th>\n",
       "    </tr>\n",
       "  </thead>\n",
       "  <tbody>\n",
       "    <tr>\n",
       "      <th>9</th>\n",
       "      <td>accommodates</td>\n",
       "      <td>2.182019e+01</td>\n",
       "      <td>39.988453</td>\n",
       "    </tr>\n",
       "    <tr>\n",
       "      <th>35</th>\n",
       "      <td>neighbourhood_group_Manhattan</td>\n",
       "      <td>7.507681e+01</td>\n",
       "      <td>33.747584</td>\n",
       "    </tr>\n",
       "    <tr>\n",
       "      <th>29</th>\n",
       "      <td>review_scores_location</td>\n",
       "      <td>4.589311e+01</td>\n",
       "      <td>22.281335</td>\n",
       "    </tr>\n",
       "    <tr>\n",
       "      <th>11</th>\n",
       "      <td>bedrooms</td>\n",
       "      <td>3.334848e+01</td>\n",
       "      <td>20.721258</td>\n",
       "    </tr>\n",
       "    <tr>\n",
       "      <th>10</th>\n",
       "      <td>bathrooms</td>\n",
       "      <td>5.493134e+01</td>\n",
       "      <td>19.825965</td>\n",
       "    </tr>\n",
       "    <tr>\n",
       "      <th>14</th>\n",
       "      <td>cleaning_fee</td>\n",
       "      <td>3.089652e-01</td>\n",
       "      <td>19.582661</td>\n",
       "    </tr>\n",
       "    <tr>\n",
       "      <th>26</th>\n",
       "      <td>review_scores_cleanliness</td>\n",
       "      <td>3.567671e+01</td>\n",
       "      <td>18.098535</td>\n",
       "    </tr>\n",
       "    <tr>\n",
       "      <th>30</th>\n",
       "      <td>review_scores_value</td>\n",
       "      <td>-2.382794e+01</td>\n",
       "      <td>-15.407135</td>\n",
       "    </tr>\n",
       "    <tr>\n",
       "      <th>28</th>\n",
       "      <td>review_scores_communication</td>\n",
       "      <td>-1.705024e+01</td>\n",
       "      <td>-11.216012</td>\n",
       "    </tr>\n",
       "    <tr>\n",
       "      <th>1</th>\n",
       "      <td>host_id</td>\n",
       "      <td>1.210643e-07</td>\n",
       "      <td>10.043409</td>\n",
       "    </tr>\n",
       "    <tr>\n",
       "      <th>13</th>\n",
       "      <td>security_deposit</td>\n",
       "      <td>2.302389e-02</td>\n",
       "      <td>8.092369</td>\n",
       "    </tr>\n",
       "    <tr>\n",
       "      <th>19</th>\n",
       "      <td>availability_60</td>\n",
       "      <td>7.278872e-01</td>\n",
       "      <td>6.141379</td>\n",
       "    </tr>\n",
       "    <tr>\n",
       "      <th>38</th>\n",
       "      <td>room_type_Entire home/apt</td>\n",
       "      <td>1.169335e+01</td>\n",
       "      <td>6.012676</td>\n",
       "    </tr>\n",
       "    <tr>\n",
       "      <th>2</th>\n",
       "      <td>host_response_rate</td>\n",
       "      <td>-7.224621e+01</td>\n",
       "      <td>-5.593269</td>\n",
       "    </tr>\n",
       "    <tr>\n",
       "      <th>39</th>\n",
       "      <td>room_type_Hotel room</td>\n",
       "      <td>6.490324e+01</td>\n",
       "      <td>4.768739</td>\n",
       "    </tr>\n",
       "    <tr>\n",
       "      <th>36</th>\n",
       "      <td>neighbourhood_group_Queens</td>\n",
       "      <td>-1.944734e+01</td>\n",
       "      <td>-4.471565</td>\n",
       "    </tr>\n",
       "    <tr>\n",
       "      <th>41</th>\n",
       "      <td>room_type_Shared room</td>\n",
       "      <td>-6.620147e+01</td>\n",
       "      <td>-4.270768</td>\n",
       "    </tr>\n",
       "    <tr>\n",
       "      <th>25</th>\n",
       "      <td>review_scores_accuracy</td>\n",
       "      <td>-9.714130e+00</td>\n",
       "      <td>-3.779098</td>\n",
       "    </tr>\n",
       "    <tr>\n",
       "      <th>27</th>\n",
       "      <td>review_scores_checkin</td>\n",
       "      <td>-6.735003e+00</td>\n",
       "      <td>-3.038559</td>\n",
       "    </tr>\n",
       "    <tr>\n",
       "      <th>23</th>\n",
       "      <td>number_of_reviews_ltm</td>\n",
       "      <td>-9.991652e-01</td>\n",
       "      <td>-1.882368</td>\n",
       "    </tr>\n",
       "    <tr>\n",
       "      <th>21</th>\n",
       "      <td>availability_365</td>\n",
       "      <td>4.060841e-02</td>\n",
       "      <td>1.830429</td>\n",
       "    </tr>\n",
       "    <tr>\n",
       "      <th>18</th>\n",
       "      <td>availability_30</td>\n",
       "      <td>1.577575e-01</td>\n",
       "      <td>1.231853</td>\n",
       "    </tr>\n",
       "    <tr>\n",
       "      <th>31</th>\n",
       "      <td>instant_bookable</td>\n",
       "      <td>8.957192e+00</td>\n",
       "      <td>0.652821</td>\n",
       "    </tr>\n",
       "    <tr>\n",
       "      <th>37</th>\n",
       "      <td>neighbourhood_group_Staten Island</td>\n",
       "      <td>-5.003475e+01</td>\n",
       "      <td>-0.631480</td>\n",
       "    </tr>\n",
       "    <tr>\n",
       "      <th>32</th>\n",
       "      <td>reviews_per_month</td>\n",
       "      <td>9.393719e+00</td>\n",
       "      <td>0.000000</td>\n",
       "    </tr>\n",
       "    <tr>\n",
       "      <th>40</th>\n",
       "      <td>room_type_Private room</td>\n",
       "      <td>-1.039511e+01</td>\n",
       "      <td>-0.000000</td>\n",
       "    </tr>\n",
       "    <tr>\n",
       "      <th>3</th>\n",
       "      <td>host_acceptance_rate</td>\n",
       "      <td>1.688576e+01</td>\n",
       "      <td>0.000000</td>\n",
       "    </tr>\n",
       "    <tr>\n",
       "      <th>4</th>\n",
       "      <td>host_is_superhost</td>\n",
       "      <td>2.730948e+00</td>\n",
       "      <td>-0.000000</td>\n",
       "    </tr>\n",
       "    <tr>\n",
       "      <th>5</th>\n",
       "      <td>host_listings_count</td>\n",
       "      <td>-2.057033e-02</td>\n",
       "      <td>-0.000000</td>\n",
       "    </tr>\n",
       "    <tr>\n",
       "      <th>6</th>\n",
       "      <td>host_total_listings_count</td>\n",
       "      <td>-2.057059e-02</td>\n",
       "      <td>-0.000000</td>\n",
       "    </tr>\n",
       "    <tr>\n",
       "      <th>34</th>\n",
       "      <td>neighbourhood_group_Brooklyn</td>\n",
       "      <td>8.473887e+00</td>\n",
       "      <td>0.000000</td>\n",
       "    </tr>\n",
       "    <tr>\n",
       "      <th>33</th>\n",
       "      <td>neighbourhood_group_Bronx</td>\n",
       "      <td>-1.406861e+01</td>\n",
       "      <td>-0.000000</td>\n",
       "    </tr>\n",
       "    <tr>\n",
       "      <th>20</th>\n",
       "      <td>availability_90</td>\n",
       "      <td>-2.127574e-01</td>\n",
       "      <td>0.000000</td>\n",
       "    </tr>\n",
       "    <tr>\n",
       "      <th>22</th>\n",
       "      <td>number_of_reviews</td>\n",
       "      <td>-5.828897e-02</td>\n",
       "      <td>-0.000000</td>\n",
       "    </tr>\n",
       "    <tr>\n",
       "      <th>7</th>\n",
       "      <td>host_has_profile_pic</td>\n",
       "      <td>5.421142e+01</td>\n",
       "      <td>0.000000</td>\n",
       "    </tr>\n",
       "    <tr>\n",
       "      <th>8</th>\n",
       "      <td>host_identity_verified</td>\n",
       "      <td>7.789394e+00</td>\n",
       "      <td>0.000000</td>\n",
       "    </tr>\n",
       "    <tr>\n",
       "      <th>12</th>\n",
       "      <td>beds</td>\n",
       "      <td>-1.195102e+01</td>\n",
       "      <td>-0.000000</td>\n",
       "    </tr>\n",
       "    <tr>\n",
       "      <th>15</th>\n",
       "      <td>guests_included</td>\n",
       "      <td>-2.662458e+00</td>\n",
       "      <td>0.000000</td>\n",
       "    </tr>\n",
       "    <tr>\n",
       "      <th>16</th>\n",
       "      <td>extra_people</td>\n",
       "      <td>9.369579e-02</td>\n",
       "      <td>0.000000</td>\n",
       "    </tr>\n",
       "    <tr>\n",
       "      <th>17</th>\n",
       "      <td>has_availability</td>\n",
       "      <td>1.850964e-11</td>\n",
       "      <td>0.000000</td>\n",
       "    </tr>\n",
       "    <tr>\n",
       "      <th>24</th>\n",
       "      <td>review_scores_rating</td>\n",
       "      <td>-1.056834e+00</td>\n",
       "      <td>-0.000000</td>\n",
       "    </tr>\n",
       "    <tr>\n",
       "      <th>0</th>\n",
       "      <td>listing_id</td>\n",
       "      <td>-2.369968e-07</td>\n",
       "      <td>0.000000</td>\n",
       "    </tr>\n",
       "  </tbody>\n",
       "</table>\n",
       "</div>"
      ],
      "text/plain": [
       "                             Variable       LM Coef  Lasso Coef\n",
       "9                        accommodates  2.182019e+01   39.988453\n",
       "35      neighbourhood_group_Manhattan  7.507681e+01   33.747584\n",
       "29             review_scores_location  4.589311e+01   22.281335\n",
       "11                           bedrooms  3.334848e+01   20.721258\n",
       "10                          bathrooms  5.493134e+01   19.825965\n",
       "14                       cleaning_fee  3.089652e-01   19.582661\n",
       "26          review_scores_cleanliness  3.567671e+01   18.098535\n",
       "30                review_scores_value -2.382794e+01  -15.407135\n",
       "28        review_scores_communication -1.705024e+01  -11.216012\n",
       "1                             host_id  1.210643e-07   10.043409\n",
       "13                   security_deposit  2.302389e-02    8.092369\n",
       "19                    availability_60  7.278872e-01    6.141379\n",
       "38          room_type_Entire home/apt  1.169335e+01    6.012676\n",
       "2                  host_response_rate -7.224621e+01   -5.593269\n",
       "39               room_type_Hotel room  6.490324e+01    4.768739\n",
       "36         neighbourhood_group_Queens -1.944734e+01   -4.471565\n",
       "41              room_type_Shared room -6.620147e+01   -4.270768\n",
       "25             review_scores_accuracy -9.714130e+00   -3.779098\n",
       "27              review_scores_checkin -6.735003e+00   -3.038559\n",
       "23              number_of_reviews_ltm -9.991652e-01   -1.882368\n",
       "21                   availability_365  4.060841e-02    1.830429\n",
       "18                    availability_30  1.577575e-01    1.231853\n",
       "31                   instant_bookable  8.957192e+00    0.652821\n",
       "37  neighbourhood_group_Staten Island -5.003475e+01   -0.631480\n",
       "32                  reviews_per_month  9.393719e+00    0.000000\n",
       "40             room_type_Private room -1.039511e+01   -0.000000\n",
       "3                host_acceptance_rate  1.688576e+01    0.000000\n",
       "4                   host_is_superhost  2.730948e+00   -0.000000\n",
       "5                 host_listings_count -2.057033e-02   -0.000000\n",
       "6           host_total_listings_count -2.057059e-02   -0.000000\n",
       "34       neighbourhood_group_Brooklyn  8.473887e+00    0.000000\n",
       "33          neighbourhood_group_Bronx -1.406861e+01   -0.000000\n",
       "20                    availability_90 -2.127574e-01    0.000000\n",
       "22                  number_of_reviews -5.828897e-02   -0.000000\n",
       "7                host_has_profile_pic  5.421142e+01    0.000000\n",
       "8              host_identity_verified  7.789394e+00    0.000000\n",
       "12                               beds -1.195102e+01   -0.000000\n",
       "15                    guests_included -2.662458e+00    0.000000\n",
       "16                       extra_people  9.369579e-02    0.000000\n",
       "17                   has_availability  1.850964e-11    0.000000\n",
       "24               review_scores_rating -1.056834e+00   -0.000000\n",
       "0                          listing_id -2.369968e-07    0.000000"
      ]
     },
     "execution_count": 25,
     "metadata": {},
     "output_type": "execute_result"
    }
   ],
   "source": [
    "# Sorting by LASSO (decending order)\n",
    "pred_coef.sort_values('Lasso Coef', ascending = False, key=pd.Series.abs)"
   ]
  },
  {
   "cell_type": "markdown",
   "metadata": {},
   "source": [
    "Starting with the LASSO we can see that, under that model, 18 different coefficients estimated were forced to be exactly zero. We can interpret this to mean that of all the predictor coefficients possible these 18 were likely to be the least predictive. If we sort the dataframe by descending order (absolute value) we can see that the top 5 most predictive coefficients, according to LASSO, are: *accomodates*, *neighbourhood_group_Manhattan*, *review_scores_location*, *bedrooms*, and *bathrooms*.\n",
    "\n",
    "The Linear Regression model, on the other hand, calculates *neighbourhood_group_Manhattan*, *host_response_rate*, *room_type_Shared room*, *room_type_Hotel room*, and *bathroom* to be the most predictive of price. Every coefficient was considered in the Linear Regression model when building the prediction as there are no shrinkage penalties.\n",
    "\n",
    "Across both models an Airbnb being located in Manhattan and having multiple bathrooms are the most predictive of price. And this make sense given that, of the 5 boroughs, Manhattan is the most expensive one and the one with the most amount of tourists.\n",
    "\n",
    "There are also some interesting differences between the two models. For example the Linear Regression model ranks *host_has_profile_pic* highly (6th highest) whereas the LASSO shrinks that value to 0. On the other hand *cleaning_fee* is ranked highly by LASSO (6th highest once again) whereas the Linear Regression model does not.\n",
    "\n",
    "When comparing the model we can also see how the LASSO reduces the magnitude of the coefficients. The linear model coefficient on *neighbourhood_group_Manhattan* is 75.08 whereas on the LASSO the coefficient is 33.75. This is more than likely due to the standardization of our values but is still important to note."
   ]
  }
 ],
 "metadata": {
  "kernelspec": {
   "display_name": "Python 3",
   "language": "python",
   "name": "python3"
  },
  "language_info": {
   "codemirror_mode": {
    "name": "ipython",
    "version": 3
   },
   "file_extension": ".py",
   "mimetype": "text/x-python",
   "name": "python",
   "nbconvert_exporter": "python",
   "pygments_lexer": "ipython3",
   "version": "3.8.5"
  }
 },
 "nbformat": 4,
 "nbformat_minor": 4
}
