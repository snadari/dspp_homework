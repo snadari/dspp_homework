{
 "cells": [
  {
   "cell_type": "markdown",
   "metadata": {},
   "source": [
    "# Problem Set #4\n",
    "## Name: Sahithi N Adari\n",
    "### Date: 04/19/2021"
   ]
  },
  {
   "cell_type": "code",
   "execution_count": 1,
   "metadata": {},
   "outputs": [],
   "source": [
    "import pandas as pd \n",
    "import numpy as np\n",
    "import csv\n",
    "\n",
    "from sklearn.feature_extraction.text import TfidfVectorizer\n",
    "from sklearn.model_selection import cross_val_score, validation_curve, train_test_split\n",
    "from sklearn.neighbors import KNeighborsClassifier\n",
    "from sklearn.linear_model import LogisticRegression\n",
    "from sklearn.naive_bayes import MultinomialNB\n",
    "from sklearn.metrics import confusion_matrix, ConfusionMatrixDisplay, roc_curve, roc_auc_score\n",
    "\n",
    "import matplotlib.pyplot as plt\n",
    "# import seaborn as sns"
   ]
  },
  {
   "cell_type": "markdown",
   "metadata": {},
   "source": [
    "## Part 1"
   ]
  },
  {
   "cell_type": "markdown",
   "metadata": {},
   "source": [
    "### Question 1"
   ]
  },
  {
   "cell_type": "code",
   "execution_count": 2,
   "metadata": {},
   "outputs": [
    {
     "name": "stdout",
     "output_type": "stream",
     "text": [
      "The conditional probabilites are: {'P(A = 1|+)': 0.6, 'P(A = 0|+)': 0.4, 'P(A = 1|-)': 0.4, 'P(A = 0|-)': 0.6, 'P(B = 1|+)': 0.2, 'P(B = 0|+)': 0.8, 'P(B = 1|-)': 0.4, 'P(B = 0|-)': 0.6, 'P(C = 1|+)': 0.8, 'P(C = 0|+)': 0.2, 'P(C = 1|-)': 1, 'P(C = 0|-)': 0}\n"
     ]
    }
   ],
   "source": [
    "# Setting the conditional probabilites for A \n",
    "a_1_positive = 3/5\n",
    "a_0_positive = 2/5 \n",
    "a_1_negative = 2/5\n",
    "a_0_negative = 3/5 \n",
    "\n",
    "# Setting the conditional probabilites for B \n",
    "b_1_positive = 1/5\n",
    "b_0_positive = 4/5 \n",
    "b_1_negative = 2/5\n",
    "b_0_negative = 3/5 \n",
    "\n",
    "# Setting the conditional probabilites for C \n",
    "c_1_positive = 4/5\n",
    "c_0_positive = 1/5 \n",
    "c_1_negative = 1\n",
    "c_0_negative = 0 \n",
    "\n",
    "# Printing the results\n",
    "print('The conditional probabilites are:', {'P(A = 1|+)':a_1_positive,\n",
    "                                            'P(A = 0|+)':a_0_positive, \n",
    "                                            'P(A = 1|-)':a_1_negative, \n",
    "                                            'P(A = 0|-)':a_0_negative, \n",
    "                                            'P(B = 1|+)':b_1_positive, \n",
    "                                            'P(B = 0|+)':b_0_positive, \n",
    "                                            'P(B = 1|-)':b_1_negative, \n",
    "                                            'P(B = 0|-)':b_0_negative, \n",
    "                                            'P(C = 1|+)':c_1_positive, \n",
    "                                            'P(C = 0|+)':c_0_positive, \n",
    "                                            'P(C = 1|-)':c_1_negative, \n",
    "                                            'P(C = 0|-)':c_0_negative})"
   ]
  },
  {
   "cell_type": "code",
   "execution_count": 3,
   "metadata": {},
   "outputs": [
    {
     "name": "stdout",
     "output_type": "stream",
     "text": [
      "The conditional probabilites are: {'P(A|+)': 0.24, 'P(A|-)': 0.24, 'P(B|+)': 0.16, 'P(B|-)': 0.24, 'P(C|+)': 0.16, 'P(C|-)': 0}\n"
     ]
    }
   ],
   "source": [
    "# Calcuating the class-conditional probabilites for A\n",
    "a_positive = a_1_positive * a_0_positive\n",
    "a_negative = a_1_negative * a_0_negative\n",
    "\n",
    "# Calcuating the class-conditional probabilites for B\n",
    "b_positive = b_1_positive * b_0_positive\n",
    "b_negative = b_1_negative * b_0_negative\n",
    "\n",
    "# Calcuating the class-conditional probabilites for A\n",
    "c_positive = c_1_positive * c_0_positive\n",
    "c_negative = c_1_negative * c_0_negative\n",
    "\n",
    "# Printing the results\n",
    "print('The conditional probabilites are:', {'P(A|+)': round(a_positive, 4),\n",
    "                                            'P(A|-)': round(a_negative, 4), \n",
    "                                            'P(B|+)': round(b_positive, 4),\n",
    "                                            'P(B|-)': round(b_negative, 4),\n",
    "                                            'P(C|+)': round(c_positive, 4),\n",
    "                                            'P(C|-)': round(c_negative, 4)})"
   ]
  },
  {
   "cell_type": "markdown",
   "metadata": {},
   "source": [
    "### Question 2"
   ]
  },
  {
   "cell_type": "code",
   "execution_count": 4,
   "metadata": {},
   "outputs": [
    {
     "name": "stdout",
     "output_type": "stream",
     "text": [
      "{'P(+|x)': 0.08000000000000002, 'P(-|x)': 0.0}\n"
     ]
    }
   ],
   "source": [
    "# Setting the prior probabilites\n",
    "positive = 0.5\n",
    "negative = 0.5 \n",
    "\n",
    "# Calculating the class-conditional probabilites for A = 0, B = 1, C = 0\n",
    "x_positive = a_0_positive * b_1_positive * c_0_positive\n",
    "x_negative = a_0_negative * b_1_negative * c_0_negative\n",
    "\n",
    "# Calculating the posterior probabilities \n",
    "positive_x = ((positive * x_positive)/0.1)\n",
    "negative_x = ((negative * x_negative)/0.1)\n",
    "\n",
    "# Printing out the posterior probabilities \n",
    "print({'P(+|x)':positive_x, 'P(-|x)':negative_x})"
   ]
  },
  {
   "cell_type": "markdown",
   "metadata": {},
   "source": [
    "Because $P(+|x) > P(-|x), P(A = 0, B = 1, C = 0)$ gets classified as $+$."
   ]
  },
  {
   "cell_type": "markdown",
   "metadata": {},
   "source": [
    "### Question 3"
   ]
  },
  {
   "cell_type": "code",
   "execution_count": 5,
   "metadata": {
    "scrolled": true
   },
   "outputs": [
    {
     "name": "stdout",
     "output_type": "stream",
     "text": [
      "Using the Laplace estimate, the conditional probabilites are: {'P(A = 1|+)': 0.5714, 'P(A = 0|+)': 0.4286, 'P(A = 1|-)': 0.4286, 'P(A = 0|-)': 0.5714, 'P(B = 1|+)': 0.2857, 'P(B = 0|+)': 0.7143, 'P(B = 1|-)': 0.4286, 'P(B = 0|-)': 0.5714, 'P(C = 1|+)': 0.7143, 'P(C = 0|+)': 0.2857, 'P(C = 1|-)': 0.8571, 'P(C = 0|-)': 0.1429}\n"
     ]
    }
   ],
   "source": [
    "# Calculating the conditional probabilites for A (laplace)\n",
    "a_1_positive_laplace = (3+1)/(5+2)\n",
    "a_0_positive_laplace = (2+1)/(5+2) \n",
    "a_1_negative_laplace = (2+1)/(5+2)\n",
    "a_0_negative_laplace = (3+1)/(5+2)\n",
    "\n",
    "# Calculating the conditional probabilites for B (laplace)\n",
    "b_1_positive_laplace = (1+1)/(5+2)\n",
    "b_0_positive_laplace = (4+1)/(5+2)\n",
    "b_1_negative_laplace = (2+1)/(5+2)\n",
    "b_0_negative_laplace = (3+1)/(5+2)\n",
    "\n",
    "# Calculating the conditional probabilites for C (laplace)\n",
    "c_1_positive_laplace = (4+1)/(5+2)\n",
    "c_0_positive_laplace = (1+1)/(5+2)\n",
    "c_1_negative_laplace = (5+1)/(5+2)\n",
    "c_0_negative_laplace = (0+1)/(5+2)\n",
    "\n",
    "# Printing the results\n",
    "print('Using the Laplace estimate, the conditional probabilites are:', {'P(A = 1|+)': round(a_1_positive_laplace, 4),\n",
    "                                            'P(A = 0|+)': round(a_0_positive_laplace, 4),\n",
    "                                            'P(A = 1|-)': round(a_1_negative_laplace, 4), \n",
    "                                            'P(A = 0|-)': round(a_0_negative_laplace, 4),\n",
    "                                            'P(B = 1|+)': round(b_1_positive_laplace, 4),\n",
    "                                            'P(B = 0|+)': round(b_0_positive_laplace, 4),\n",
    "                                            'P(B = 1|-)': round(b_1_negative_laplace, 4),\n",
    "                                            'P(B = 0|-)': round(b_0_negative_laplace, 4),\n",
    "                                            'P(C = 1|+)': round(c_1_positive_laplace, 4),\n",
    "                                            'P(C = 0|+)': round(c_0_positive_laplace, 4),\n",
    "                                            'P(C = 1|-)': round(c_1_negative_laplace, 4),\n",
    "                                            'P(C = 0|-)': round(c_0_negative_laplace, 4)})"
   ]
  },
  {
   "cell_type": "markdown",
   "metadata": {},
   "source": [
    "### Question 4"
   ]
  },
  {
   "cell_type": "code",
   "execution_count": 6,
   "metadata": {},
   "outputs": [
    {
     "name": "stdout",
     "output_type": "stream",
     "text": [
      "{'P(+|x)': 0.17492711370262387, 'P(-|x)': 0.17492711370262387}\n"
     ]
    }
   ],
   "source": [
    "# Calculating the class-conditional probabilites for A = 0, B = 1, C = 0 (laplace)\n",
    "x_positive_laplace = a_0_positive_laplace * b_1_positive_laplace * c_0_positive_laplace\n",
    "x_negative_laplace = a_0_negative_laplace * b_1_negative_laplace * c_0_negative_laplace\n",
    "\n",
    "# Calculating the posterior probabilities \n",
    "positive_x_laplace = ((positive * x_positive_laplace)/0.1)\n",
    "negative_x_laplace = ((negative * x_negative_laplace)/0.1)\n",
    "\n",
    "# Printing out the posterior probabilities \n",
    "print({'P(+|x)': positive_x_laplace, 'P(-|x)': negative_x_laplace})"
   ]
  },
  {
   "cell_type": "markdown",
   "metadata": {},
   "source": [
    "Because $P(+|x) = P(-|x)$ this means that there is equal probability that $P(A = 0, B = 1, C = 0)$ will be classified as $P(+)$ or $P(-)$."
   ]
  },
  {
   "cell_type": "markdown",
   "metadata": {},
   "source": [
    "### Question 5"
   ]
  },
  {
   "cell_type": "markdown",
   "metadata": {},
   "source": [
    "Although Laplace outputted equal probabilities between the two classes, it is still a better method given that it is better equipped to deal with situations with a class-conditional probability of 0. \n",
    "\n",
    "Laplace avoids the problem of \"vanishing\" class-conditional probabilities, thereby, providing more robust estimates of posterior probabilities."
   ]
  },
  {
   "cell_type": "markdown",
   "metadata": {},
   "source": [
    "## Part 2"
   ]
  },
  {
   "cell_type": "code",
   "execution_count": 7,
   "metadata": {},
   "outputs": [],
   "source": [
    "# Importing the data\n",
    "fedreg = pd.read_csv('fed_register_agriculture.csv')"
   ]
  },
  {
   "cell_type": "markdown",
   "metadata": {},
   "source": [
    "### Question 1"
   ]
  },
  {
   "cell_type": "code",
   "execution_count": 8,
   "metadata": {},
   "outputs": [],
   "source": [
    "# Creating a target array\n",
    "y = fedreg['agriculture']\n",
    "\n",
    "# Creating a features array\n",
    "X = fedreg['text']"
   ]
  },
  {
   "cell_type": "markdown",
   "metadata": {},
   "source": [
    "### Question 2"
   ]
  },
  {
   "cell_type": "code",
   "execution_count": 9,
   "metadata": {},
   "outputs": [
    {
     "data": {
      "text/plain": [
       "(1268, 528)"
      ]
     },
     "execution_count": 9,
     "metadata": {},
     "output_type": "execute_result"
    }
   ],
   "source": [
    "# Generating a vectorizer that would generate a DTM with a minimum document frequency of 25\n",
    "vect = TfidfVectorizer(stop_words='english', min_df = 25)\n",
    "\n",
    "# Converting the text to DTM with TF-IDF weighting\n",
    "dtm = vect.fit_transform(fedreg['text'])\n",
    "\n",
    "# Determining the shape of the DTM\n",
    "dtm.shape"
   ]
  },
  {
   "cell_type": "markdown",
   "metadata": {},
   "source": [
    "The minimum document frequency of 25 directly impacts the number of attributes in a DTM. A higher minimum results in fewer attributes as the document threshold has increased; a lower minimum results in more attributes. In essence, a word has to be appear a minimum number of times before it is captured in the DTM."
   ]
  },
  {
   "cell_type": "markdown",
   "metadata": {},
   "source": [
    "### Question 3"
   ]
  },
  {
   "cell_type": "code",
   "execution_count": 10,
   "metadata": {},
   "outputs": [
    {
     "data": {
      "text/plain": [
       "(1268, 512)"
      ]
     },
     "execution_count": 10,
     "metadata": {},
     "output_type": "execute_result"
    }
   ],
   "source": [
    "# Generating a vectorizer that would generate a DTM with a minimum document frequency of 25, and excludes numbers\n",
    "vect_num = TfidfVectorizer(stop_words='english', min_df = 25, token_pattern = r'(?u)\\b[^\\d\\W]+\\b')\n",
    "\n",
    "# Converting the text to DTM with TF-IDF weighting\n",
    "dtm_num = vect_num.fit_transform(X)\n",
    "\n",
    "# Determining the shape of the DTM\n",
    "dtm_num.shape"
   ]
  },
  {
   "cell_type": "markdown",
   "metadata": {},
   "source": [
    "The DTM change shape as the number of attributes goes from 528 to 512. This means that there were 16 numbers in the original DTM that met the minimum document threshold."
   ]
  },
  {
   "cell_type": "markdown",
   "metadata": {},
   "source": [
    "### Question 4"
   ]
  },
  {
   "cell_type": "code",
   "execution_count": 11,
   "metadata": {},
   "outputs": [],
   "source": [
    "# Converting vocabulary to dictionary of term indices\n",
    "vect_num.vocabulary_\n",
    "term_indices = {index: term for term, index in vect_num.vocabulary_.items()}"
   ]
  },
  {
   "cell_type": "code",
   "execution_count": 12,
   "metadata": {},
   "outputs": [],
   "source": [
    "# Creating a list of column names from the term indices\n",
    "colterms = [term_indices[i] for i in range(dtm_num.shape[1])]"
   ]
  },
  {
   "cell_type": "code",
   "execution_count": 13,
   "metadata": {},
   "outputs": [],
   "source": [
    "# Creating a DTM dataframe\n",
    "X = pd.DataFrame(dtm_num.toarray(), columns=colterms)"
   ]
  },
  {
   "cell_type": "code",
   "execution_count": 14,
   "metadata": {},
   "outputs": [
    {
     "data": {
      "text/plain": [
       "KNeighborsClassifier()"
      ]
     },
     "execution_count": 14,
     "metadata": {},
     "output_type": "execute_result"
    }
   ],
   "source": [
    "# Intializing the KNeighborsClassifier\n",
    "mod = KNeighborsClassifier()\n",
    "\n",
    "# Fitting the model\n",
    "mod.fit(X, y)"
   ]
  },
  {
   "cell_type": "code",
   "execution_count": 15,
   "metadata": {},
   "outputs": [],
   "source": [
    "# Splitting the validation into train_scores and test_scores\n",
    "train_scores, test_scores = validation_curve(mod, X, y, \n",
    "                                             param_name = \"n_neighbors\", \n",
    "                                             param_range = np.arange(1, 11))"
   ]
  },
  {
   "cell_type": "code",
   "execution_count": 16,
   "metadata": {},
   "outputs": [],
   "source": [
    "# Generating the means\n",
    "train_mean = np.mean(train_scores, axis = 1)\n",
    "test_mean = np.mean(test_scores, axis = 1)"
   ]
  },
  {
   "cell_type": "code",
   "execution_count": 17,
   "metadata": {},
   "outputs": [
    {
     "data": {
      "image/png": "[encoded data removed]",
      "text/plain": [
       "<Figure size 576x432 with 1 Axes>"
      ]
     },
     "metadata": {
      "needs_background": "light"
     },
     "output_type": "display_data"
    }
   ],
   "source": [
    "# Plotting the validation curve\n",
    "fig = plt.figure(figsize = (8,6))\n",
    "\n",
    "# Setting the range of x-axis values\n",
    "param_range = np.arange(1, 11)\n",
    "\n",
    "# Plotting the training and test mean \n",
    "plt.plot(param_range, train_mean, label=\"Training score\", color=\"darkorange\")\n",
    "plt.plot(param_range, test_mean, label=\"Cross-validation score\", color=\"navy\")\n",
    "\n",
    "# Globally setting the font size for readability\n",
    "plt.rcParams['font.size'] = '16'\n",
    "\n",
    "# Setting the title and axis labels\n",
    "plt.xlabel('n_neighbors')\n",
    "plt.ylabel('Score')\n",
    "plt.title('KNN Classifier Validation Curve')\n",
    "\n",
    "# Showing the legend\n",
    "plt.legend()\n",
    "\n",
    "# Showing the plot\n",
    "plt.show()"
   ]
  },
  {
   "cell_type": "markdown",
   "metadata": {},
   "source": [
    "According to the above validation curve, $k$ = 1 would be the ideal value of $k$. Although there are always concerns that a low $k$ will result in overfitting the of data, this is not a concern here since we are working with a binary dataset."
   ]
  },
  {
   "cell_type": "markdown",
   "metadata": {},
   "source": [
    "### Question 5"
   ]
  },
  {
   "cell_type": "markdown",
   "metadata": {},
   "source": [
    "#### Part A - KNN"
   ]
  },
  {
   "cell_type": "code",
   "execution_count": 18,
   "metadata": {},
   "outputs": [],
   "source": [
    "# Splitting the data\n",
    "Xtrain, Xtest, ytrain, ytest = train_test_split(X, y, test_size=0.2, random_state=1994)"
   ]
  },
  {
   "cell_type": "code",
   "execution_count": 19,
   "metadata": {},
   "outputs": [
    {
     "name": "stdout",
     "output_type": "stream",
     "text": [
      "Average cross-validation score for KNN: 0.9528\n"
     ]
    }
   ],
   "source": [
    "# Generating a KNN model with 2 neighbors \n",
    "knn = KNeighborsClassifier(n_neighbors=1)\n",
    "\n",
    "# Training a model with CV of 5 on the test data\n",
    "knn_scores = cross_val_score(knn, Xtest, ytest, cv=5)\n",
    "\n",
    "# Printing the average mean accuracy\n",
    "print('Average cross-validation score for KNN: {:.4f}'.format(knn_scores.mean()))"
   ]
  },
  {
   "cell_type": "markdown",
   "metadata": {},
   "source": [
    "#### Part B - Logistic Regression"
   ]
  },
  {
   "cell_type": "code",
   "execution_count": 20,
   "metadata": {},
   "outputs": [
    {
     "name": "stdout",
     "output_type": "stream",
     "text": [
      "Average cross-validation score for Logistic Regression: 0.9487\n"
     ]
    }
   ],
   "source": [
    "# Generating a Logistic Regression model\n",
    "log = LogisticRegression()\n",
    "\n",
    "# Training a model with CV of 5 on the test data\n",
    "log_scores = cross_val_score(log, Xtest, ytest, cv=5)\n",
    "\n",
    "# Printing the average mean accuracy\n",
    "print('Average cross-validation score for Logistic Regression: {:.4f}'.format(log_scores.mean()))"
   ]
  },
  {
   "cell_type": "markdown",
   "metadata": {},
   "source": [
    "#### Part C - Multinomial Naive Bayes"
   ]
  },
  {
   "cell_type": "code",
   "execution_count": 21,
   "metadata": {},
   "outputs": [
    {
     "name": "stdout",
     "output_type": "stream",
     "text": [
      "Average cross-validation score for Multinomial Naive Bayes: 0.9488\n"
     ]
    }
   ],
   "source": [
    "# Generating a Multinomial Naive Bayes model\n",
    "mnb = MultinomialNB()\n",
    "\n",
    "# Training a model with CV of 5 on the test data\n",
    "mnb_scores = cross_val_score(mnb, Xtest, ytest, cv=5)\n",
    "\n",
    "# Printing each score and averaging them to get the mean accuracy\n",
    "print('Average cross-validation score for Multinomial Naive Bayes: {:.4f}'.format(mnb_scores.mean()))"
   ]
  },
  {
   "cell_type": "markdown",
   "metadata": {},
   "source": [
    "### Question 6"
   ]
  },
  {
   "cell_type": "code",
   "execution_count": 25,
   "metadata": {},
   "outputs": [
    {
     "data": {
      "image/png": "[encoded data removed]",
      "text/plain": [
       "<Figure size 1440x360 with 4 Axes>"
      ]
     },
     "metadata": {
      "needs_background": "light"
     },
     "output_type": "display_data"
    }
   ],
   "source": [
    "# Plotting all 3 confusion matrixes in one row \n",
    "\n",
    "# Creating a dictionary of classifiers\n",
    "classifiers = {\"KNN\": KNeighborsClassifier(n_neighbors=1),\n",
    "               \"Logisitic Regression\": LogisticRegression(),\n",
    "               \"Multinomial Naive Bayes\": MultinomialNB()}\n",
    "\n",
    "# Creating subplots\n",
    "f, axes = plt.subplots(1, 3, figsize=(20, 5), sharey='row')\n",
    "\n",
    "# Setting the x-axis as \"Predicted Label\"\n",
    "f.text(0.4, 0.1, 'Predicted label', ha='left')\n",
    "\n",
    "# Creating a for loop that would graph each confusion matrix in a subplot\n",
    "for i, (key, classifier) in enumerate(classifiers.items()):\n",
    "    plt.grid(False) # Removing grid lines\n",
    "    y_pred = classifier.fit(Xtrain, ytrain).predict(Xtest) # Generating a prediction\n",
    "    cf_matrix = confusion_matrix(ytest, y_pred) # Creating a confusion matrix from that prediction\n",
    "    disp = ConfusionMatrixDisplay(cf_matrix) \n",
    "    disp.plot(ax = axes[i], cmap = 'PuBu') # Plotting the confusion matrix on the \"Predicted Label\" axis\n",
    "    disp.ax_.set_title(key) \n",
    "    disp.im_.colorbar.remove() # Removing the colorbar for each plot\n",
    "    disp.ax_.set_xlabel('') # Removing \"Predicted Label\" for each plot\n",
    "    if i!=0: # Removing \"True Label\" for each plot except for the very first plot\n",
    "        disp.ax_.set_ylabel('')\n",
    "\n",
    "# Setting the colorbar for the entire figure\n",
    "f.colorbar(disp.im_, ax=axes)\n",
    "\n",
    "# Outputting the plot\n",
    "plt.show()"
   ]
  },
  {
   "cell_type": "markdown",
   "metadata": {},
   "source": [
    "When we compare the 3 confusion matrixes against each other, the values are relatively similar save for a few key differences. The Logistic Regression and Multinomial Naive Bayes are more likely to generate a Type 1 Error (false positive) whereas the KNN is more likely to generate a Type 2 Error (false negative).\n",
    "\n",
    "KNN will have more issues with recall/sensitivity whereas Logistic Regression and Multinomial Naive Bayes will have issues with precision."
   ]
  },
  {
   "cell_type": "markdown",
   "metadata": {},
   "source": [
    "### Question 7"
   ]
  },
  {
   "cell_type": "code",
   "execution_count": 26,
   "metadata": {},
   "outputs": [],
   "source": [
    "# Define a result table as a DataFrame\n",
    "result_table = pd.DataFrame(columns=['classifiers', 'fpr','tpr','auc'])\n",
    "\n",
    "# Creating a model that would train the models and record the results\n",
    "for (key, cls) in classifiers.items():\n",
    "    yprob = cls.fit(Xtrain, ytrain).predict_proba(Xtest)[:,1] # Slicing the shape of 'yprob' into a 1-d array \n",
    "    \n",
    "    fpr, tpr, _ = roc_curve(ytest, yprob) # Saving the first two values of the roc_curve array as 'fpr' and 'tpr', and not assigning a value to the third value of the roc_curve array \n",
    "    auc = roc_auc_score(ytest, yprob) # Generating the auc score and setting that value to 'auc'\n",
    "    \n",
    "    result_table = result_table.append({'classifiers': key,\n",
    "                                        'fpr':fpr, \n",
    "                                        'tpr':tpr, \n",
    "                                        'auc':auc}, ignore_index=True)\n",
    "\n",
    "# Setting name of the classifiers as the index\n",
    "result_table.set_index('classifiers', inplace=True)"
   ]
  },
  {
   "cell_type": "code",
   "execution_count": 47,
   "metadata": {},
   "outputs": [
    {
     "data": {
      "image/png": "[encoded data removed]",
      "text/plain": [
       "<Figure size 576x432 with 1 Axes>"
      ]
     },
     "metadata": {
      "needs_background": "light"
     },
     "output_type": "display_data"
    }
   ],
   "source": [
    "# Plotting the AUC-ROC for all 3 models\n",
    "fig, ax = plt.subplots(figsize=(8,6))\n",
    "\n",
    "# Setting the color of the plotlines\n",
    "ax.set_prop_cycle(color=['orange', 'green', 'blue'])\n",
    "\n",
    "# Creating a for loop that would plot the true positive rate against the false positive rate\n",
    "for i in result_table.index:\n",
    "    plt.plot(result_table.loc[i]['fpr'], \n",
    "             result_table.loc[i]['tpr'], \n",
    "             label=\"{}, AUC={:.3f}\".format(i, result_table.loc[i]['auc'])) # Putting the AUC in the legend\n",
    "    \n",
    "# Creating the threshold line\n",
    "plt.plot([0,1], [0,1], color='black', linestyle='--')\n",
    "\n",
    "# Setting axis ticks\n",
    "plt.xticks(np.arange(0.0, 1.1, step=0.1))\n",
    "plt.yticks(np.arange(0.0, 1.1, step=0.1))\n",
    "\n",
    "# Labelling the plot\n",
    "plt.xlabel(\"False Positive Rate\", fontsize=16)\n",
    "plt.ylabel(\"True Positive Rate\", fontsize=16)\n",
    "plt.title('AUC-ROC Curve Analysis Comparing the 3 Models', fontsize=16)\n",
    "\n",
    "# Detailing the legend\n",
    "plt.legend(prop={'size':12}, loc='lower right')\n",
    "\n",
    "# Outputting the plot\n",
    "plt.show()"
   ]
  },
  {
   "cell_type": "markdown",
   "metadata": {},
   "source": [
    "When reviewing the mean test accuracy, confusion matrixes, as well as the ROC-AUC curves, the \"best\" model here is KNN. Although KNN's AUC is 0.01 worse than Logisitic Regression or Multinomial Naive Bayes, in the confusion matrix and the mean test accuracy section, KNN outperformed against the other 2 models. \n",
    "\n",
    "But, if I'm being entirely honest, I think all 3 models would work because the results are so close: there are only marginal differences between the models."
   ]
  }
 ],
 "metadata": {
  "kernelspec": {
   "display_name": "Python 3",
   "language": "python",
   "name": "python3"
  },
  "language_info": {
   "codemirror_mode": {
    "name": "ipython",
    "version": 3
   },
   "file_extension": ".py",
   "mimetype": "text/x-python",
   "name": "python",
   "nbconvert_exporter": "python",
   "pygments_lexer": "ipython3",
   "version": "3.8.5"
  }
 },
 "nbformat": 4,
 "nbformat_minor": 4
}
